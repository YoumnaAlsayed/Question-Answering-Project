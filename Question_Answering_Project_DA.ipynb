{
  "cells": [
    {
      "cell_type": "markdown",
      "source": [
        "#Question Answering Project"
      ],
      "metadata": {
        "id": "sJxXeJLsRAfG"
      }
    },
    {
      "cell_type": "markdown",
      "source": [
        "\n",
        "\n",
        "1.   Marim Amer: 21maem@queensu.ca\n",
        "2.   Mawada Amer: 21maem1@queensu.ca\n",
        "3.   Youmna Alsayed: 21yaaa@queensu.ca"
      ],
      "metadata": {
        "id": "aW5pz2C-RegV"
      }
    },
    {
      "cell_type": "code",
      "source": [
        "from google.colab import drive\n",
        "drive.mount('/content/drive')"
      ],
      "metadata": {
        "colab": {
          "base_uri": "https://localhost:8080/"
        },
        "id": "xdglY97aOsZl",
        "outputId": "ce30d615-84a7-4a27-ba41-b695116b71ca"
      },
      "execution_count": null,
      "outputs": [
        {
          "output_type": "stream",
          "name": "stdout",
          "text": [
            "Mounted at /content/drive\n"
          ]
        }
      ]
    },
    {
      "cell_type": "code",
      "source": [
        "#Download all important libraries\n",
        "import nltk\n",
        "nltk.download('punkt')\n",
        "nltk.download('stopwords')\n",
        "nltk.download('wordnet')\n",
        "\n",
        "#Levenshtein similarity install\n",
        "!pip install python-Levenshtein\n",
        "\n",
        "#Cosin & OverlapCoefficient sililarity install\n",
        "!pip install py_stringmatching"
      ],
      "metadata": {
        "colab": {
          "base_uri": "https://localhost:8080/"
        },
        "id": "_hC0RV2VtE8a",
        "outputId": "50085697-4e93-4984-d4d9-edebab2e953b"
      },
      "execution_count": null,
      "outputs": [
        {
          "output_type": "stream",
          "name": "stdout",
          "text": [
            "[nltk_data] Downloading package punkt to /root/nltk_data...\n",
            "[nltk_data]   Unzipping tokenizers/punkt.zip.\n",
            "[nltk_data] Downloading package stopwords to /root/nltk_data...\n",
            "[nltk_data]   Unzipping corpora/stopwords.zip.\n",
            "[nltk_data] Downloading package wordnet to /root/nltk_data...\n",
            "[nltk_data]   Unzipping corpora/wordnet.zip.\n",
            "Looking in indexes: https://pypi.org/simple, https://us-python.pkg.dev/colab-wheels/public/simple/\n",
            "Collecting python-Levenshtein\n",
            "  Downloading python-Levenshtein-0.12.2.tar.gz (50 kB)\n",
            "\u001b[K     |████████████████████████████████| 50 kB 7.6 MB/s \n",
            "\u001b[?25hRequirement already satisfied: setuptools in /usr/local/lib/python3.7/dist-packages (from python-Levenshtein) (57.4.0)\n",
            "Building wheels for collected packages: python-Levenshtein\n",
            "  Building wheel for python-Levenshtein (setup.py) ... \u001b[?25l\u001b[?25hdone\n",
            "  Created wheel for python-Levenshtein: filename=python_Levenshtein-0.12.2-cp37-cp37m-linux_x86_64.whl size=149870 sha256=67f9cb9be61163a52347ce3290120b1d861029b8a8c1e3664d6fce8feda32d15\n",
            "  Stored in directory: /root/.cache/pip/wheels/05/5f/ca/7c4367734892581bb5ff896f15027a932c551080b2abd3e00d\n",
            "Successfully built python-Levenshtein\n",
            "Installing collected packages: python-Levenshtein\n",
            "Successfully installed python-Levenshtein-0.12.2\n",
            "Looking in indexes: https://pypi.org/simple, https://us-python.pkg.dev/colab-wheels/public/simple/\n",
            "Collecting py_stringmatching\n",
            "  Downloading py_stringmatching-0.4.2.tar.gz (661 kB)\n",
            "\u001b[K     |████████████████████████████████| 661 kB 32.3 MB/s \n",
            "\u001b[?25hRequirement already satisfied: numpy>=1.7.0 in /usr/local/lib/python3.7/dist-packages (from py_stringmatching) (1.21.6)\n",
            "Requirement already satisfied: six in /usr/local/lib/python3.7/dist-packages (from py_stringmatching) (1.15.0)\n",
            "Building wheels for collected packages: py-stringmatching\n",
            "  Building wheel for py-stringmatching (setup.py) ... \u001b[?25l\u001b[?25hdone\n",
            "  Created wheel for py-stringmatching: filename=py_stringmatching-0.4.2-cp37-cp37m-linux_x86_64.whl size=2055554 sha256=8d721b3886dff97988af7c04dbb0475d6a44dd062d0870e58079e5b6c877a4a7\n",
            "  Stored in directory: /root/.cache/pip/wheels/7e/12/86/46f9378ae730550dd2f89cad50880e70d66cabedd90074f2d2\n",
            "Successfully built py-stringmatching\n",
            "Installing collected packages: py-stringmatching\n",
            "Successfully installed py-stringmatching-0.4.2\n"
          ]
        }
      ]
    },
    {
      "cell_type": "code",
      "execution_count": null,
      "metadata": {
        "id": "mdFV9lzcd1ui"
      },
      "outputs": [],
      "source": [
        "#import liberaries that I will use in my code\n",
        "import os\n",
        "from lxml import objectify\n",
        "import csv\n",
        "import missingno as msno\n",
        "import re\n",
        "import pickle\n",
        "\n",
        "import nltk # NLTK is a standard Python package with prebuilt functions and utilities for quick and easy use.\n",
        "# from nltk.stem.snowball import SnowballStemmer\n",
        "from nltk.stem import WordNetLemmatizer\n",
        "from nltk.tokenize import word_tokenize\n",
        "from nltk.corpus import stopwords\n",
        "from sklearn.feature_extraction.text import CountVectorizer\n",
        "from bokeh.io import output_notebook # It is used to create interactive visualisations for modern web browsers and to build graphics.\n",
        "output_notebook()\n",
        "\n",
        "# Import needed libraries. E.g., pandas, sklearn, nltk, etc. \n",
        "import numpy as np\n",
        "import pandas as pd\n",
        "import sklearn\n",
        "import re\n",
        "import os\n",
        "import matplotlib.pyplot as plt\n",
        "import seaborn as sns\n",
        "\n",
        "from nltk.corpus import stopwords\n",
        "from nltk.tokenize import word_tokenize\n",
        "from nltk.stem.snowball import SnowballStemmer\n",
        "from nltk.stem import WordNetLemmatizer\n",
        "from nltk import pos_tag\n",
        "#Display all rows\n",
        "# pd.set_option('display.max_rows', None)\n",
        "\n",
        "#Model libraries\n",
        "from sklearn.model_selection import train_test_split\n",
        "\n",
        "#Imbalanced data\n",
        "from imblearn.over_sampling import RandomOverSampler\n",
        "import collections\n",
        "\n",
        "#Similarity\n",
        "from Levenshtein import distance as levenshtein_distance\n",
        "from sklearn.metrics import mean_absolute_percentage_error\n",
        "from sklearn.metrics import mean_absolute_error\n",
        "from sklearn.metrics import mean_squared_error"
      ]
    },
    {
      "cell_type": "markdown",
      "source": [
        "## Reading data"
      ],
      "metadata": {
        "id": "WFmcdIJaeOtt"
      }
    },
    {
      "cell_type": "code",
      "execution_count": 65,
      "metadata": {
        "colab": {
          "base_uri": "https://localhost:8080/"
        },
        "id": "O_2rtDPWd1up",
        "outputId": "defeae29-01e6-44b1-8a5f-5bfa30ffd17e"
      },
      "outputs": [
        {
          "output_type": "execute_result",
          "data": {
            "text/plain": [
              "(2479, 4)"
            ]
          },
          "metadata": {},
          "execution_count": 65
        }
      ],
      "source": [
        "#Reading data\n",
        "df = pd.read_csv(\"/content/drive/MyDrive/Colab_Notebooks/Data_Analytics/Project/Data_2/paired_questions.csv\")\n",
        "\n",
        "#Dispaly the data\n",
        "df\n",
        "\n",
        "#Dispaly the shape of data\n",
        "df.shape"
      ]
    },
    {
      "cell_type": "code",
      "source": [
        "#Display dataset\n",
        "df"
      ],
      "metadata": {
        "colab": {
          "base_uri": "https://localhost:8080/",
          "height": 0
        },
        "id": "IPoUDQOfVAt3",
        "outputId": "883f2da1-afa1-4632-af39-97575f1abb1e"
      },
      "execution_count": 66,
      "outputs": [
        {
          "output_type": "execute_result",
          "data": {
            "text/plain": [
              "      question_id                                      user_question  \\\n",
              "0               1  What are the references with noonan syndrome a...   \n",
              "1               1  What are the references with noonan syndrome a...   \n",
              "2               1  What are the references with noonan syndrome a...   \n",
              "3               1  What are the references with noonan syndrome a...   \n",
              "4               1  What are the references with noonan syndrome a...   \n",
              "...           ...                                                ...   \n",
              "2474          104  Can you please provide Glimepiride storage & a...   \n",
              "2475          104  Can you please provide Glimepiride storage & a...   \n",
              "2476          104  Can you please provide Glimepiride storage & a...   \n",
              "2477          104  Can you please provide Glimepiride storage & a...   \n",
              "2478          104  Can you please provide Glimepiride storage & a...   \n",
              "\n",
              "                                      database_question  judge_score  \n",
              "0     What is (are) Polycystic ovary syndrome ? (Als...  1-Incorrect  \n",
              "1     What causes Polycystic ovary syndrome ? (Also ...  1-Incorrect  \n",
              "2                         What causes Noonan syndrome ?    2-Related  \n",
              "3       What are the complications of Noonan syndrome ?    2-Related  \n",
              "4                      How to prevent Noonan syndrome ?    2-Related  \n",
              "...                                                 ...          ...  \n",
              "2474  What should I do if I forget a dose of Glimepi...    2-Related  \n",
              "2475  What are the side effects or risks of Glimepir...    2-Related  \n",
              "2476  What to do in case of emergency or overdose of...    2-Related  \n",
              "2477  What other information should I know about Gli...    2-Related  \n",
              "2478  What should I know about storage and disposal ...  4-Excellent  \n",
              "\n",
              "[2479 rows x 4 columns]"
            ],
            "text/html": [
              "\n",
              "  <div id=\"df-526dcc32-2cc6-4e4f-952f-5b3ad5151d5b\">\n",
              "    <div class=\"colab-df-container\">\n",
              "      <div>\n",
              "<style scoped>\n",
              "    .dataframe tbody tr th:only-of-type {\n",
              "        vertical-align: middle;\n",
              "    }\n",
              "\n",
              "    .dataframe tbody tr th {\n",
              "        vertical-align: top;\n",
              "    }\n",
              "\n",
              "    .dataframe thead th {\n",
              "        text-align: right;\n",
              "    }\n",
              "</style>\n",
              "<table border=\"1\" class=\"dataframe\">\n",
              "  <thead>\n",
              "    <tr style=\"text-align: right;\">\n",
              "      <th></th>\n",
              "      <th>question_id</th>\n",
              "      <th>user_question</th>\n",
              "      <th>database_question</th>\n",
              "      <th>judge_score</th>\n",
              "    </tr>\n",
              "  </thead>\n",
              "  <tbody>\n",
              "    <tr>\n",
              "      <th>0</th>\n",
              "      <td>1</td>\n",
              "      <td>What are the references with noonan syndrome a...</td>\n",
              "      <td>What is (are) Polycystic ovary syndrome ? (Als...</td>\n",
              "      <td>1-Incorrect</td>\n",
              "    </tr>\n",
              "    <tr>\n",
              "      <th>1</th>\n",
              "      <td>1</td>\n",
              "      <td>What are the references with noonan syndrome a...</td>\n",
              "      <td>What causes Polycystic ovary syndrome ? (Also ...</td>\n",
              "      <td>1-Incorrect</td>\n",
              "    </tr>\n",
              "    <tr>\n",
              "      <th>2</th>\n",
              "      <td>1</td>\n",
              "      <td>What are the references with noonan syndrome a...</td>\n",
              "      <td>What causes Noonan syndrome ?</td>\n",
              "      <td>2-Related</td>\n",
              "    </tr>\n",
              "    <tr>\n",
              "      <th>3</th>\n",
              "      <td>1</td>\n",
              "      <td>What are the references with noonan syndrome a...</td>\n",
              "      <td>What are the complications of Noonan syndrome ?</td>\n",
              "      <td>2-Related</td>\n",
              "    </tr>\n",
              "    <tr>\n",
              "      <th>4</th>\n",
              "      <td>1</td>\n",
              "      <td>What are the references with noonan syndrome a...</td>\n",
              "      <td>How to prevent Noonan syndrome ?</td>\n",
              "      <td>2-Related</td>\n",
              "    </tr>\n",
              "    <tr>\n",
              "      <th>...</th>\n",
              "      <td>...</td>\n",
              "      <td>...</td>\n",
              "      <td>...</td>\n",
              "      <td>...</td>\n",
              "    </tr>\n",
              "    <tr>\n",
              "      <th>2474</th>\n",
              "      <td>104</td>\n",
              "      <td>Can you please provide Glimepiride storage &amp; a...</td>\n",
              "      <td>What should I do if I forget a dose of Glimepi...</td>\n",
              "      <td>2-Related</td>\n",
              "    </tr>\n",
              "    <tr>\n",
              "      <th>2475</th>\n",
              "      <td>104</td>\n",
              "      <td>Can you please provide Glimepiride storage &amp; a...</td>\n",
              "      <td>What are the side effects or risks of Glimepir...</td>\n",
              "      <td>2-Related</td>\n",
              "    </tr>\n",
              "    <tr>\n",
              "      <th>2476</th>\n",
              "      <td>104</td>\n",
              "      <td>Can you please provide Glimepiride storage &amp; a...</td>\n",
              "      <td>What to do in case of emergency or overdose of...</td>\n",
              "      <td>2-Related</td>\n",
              "    </tr>\n",
              "    <tr>\n",
              "      <th>2477</th>\n",
              "      <td>104</td>\n",
              "      <td>Can you please provide Glimepiride storage &amp; a...</td>\n",
              "      <td>What other information should I know about Gli...</td>\n",
              "      <td>2-Related</td>\n",
              "    </tr>\n",
              "    <tr>\n",
              "      <th>2478</th>\n",
              "      <td>104</td>\n",
              "      <td>Can you please provide Glimepiride storage &amp; a...</td>\n",
              "      <td>What should I know about storage and disposal ...</td>\n",
              "      <td>4-Excellent</td>\n",
              "    </tr>\n",
              "  </tbody>\n",
              "</table>\n",
              "<p>2479 rows × 4 columns</p>\n",
              "</div>\n",
              "      <button class=\"colab-df-convert\" onclick=\"convertToInteractive('df-526dcc32-2cc6-4e4f-952f-5b3ad5151d5b')\"\n",
              "              title=\"Convert this dataframe to an interactive table.\"\n",
              "              style=\"display:none;\">\n",
              "        \n",
              "  <svg xmlns=\"http://www.w3.org/2000/svg\" height=\"24px\"viewBox=\"0 0 24 24\"\n",
              "       width=\"24px\">\n",
              "    <path d=\"M0 0h24v24H0V0z\" fill=\"none\"/>\n",
              "    <path d=\"M18.56 5.44l.94 2.06.94-2.06 2.06-.94-2.06-.94-.94-2.06-.94 2.06-2.06.94zm-11 1L8.5 8.5l.94-2.06 2.06-.94-2.06-.94L8.5 2.5l-.94 2.06-2.06.94zm10 10l.94 2.06.94-2.06 2.06-.94-2.06-.94-.94-2.06-.94 2.06-2.06.94z\"/><path d=\"M17.41 7.96l-1.37-1.37c-.4-.4-.92-.59-1.43-.59-.52 0-1.04.2-1.43.59L10.3 9.45l-7.72 7.72c-.78.78-.78 2.05 0 2.83L4 21.41c.39.39.9.59 1.41.59.51 0 1.02-.2 1.41-.59l7.78-7.78 2.81-2.81c.8-.78.8-2.07 0-2.86zM5.41 20L4 18.59l7.72-7.72 1.47 1.35L5.41 20z\"/>\n",
              "  </svg>\n",
              "      </button>\n",
              "      \n",
              "  <style>\n",
              "    .colab-df-container {\n",
              "      display:flex;\n",
              "      flex-wrap:wrap;\n",
              "      gap: 12px;\n",
              "    }\n",
              "\n",
              "    .colab-df-convert {\n",
              "      background-color: #E8F0FE;\n",
              "      border: none;\n",
              "      border-radius: 50%;\n",
              "      cursor: pointer;\n",
              "      display: none;\n",
              "      fill: #1967D2;\n",
              "      height: 32px;\n",
              "      padding: 0 0 0 0;\n",
              "      width: 32px;\n",
              "    }\n",
              "\n",
              "    .colab-df-convert:hover {\n",
              "      background-color: #E2EBFA;\n",
              "      box-shadow: 0px 1px 2px rgba(60, 64, 67, 0.3), 0px 1px 3px 1px rgba(60, 64, 67, 0.15);\n",
              "      fill: #174EA6;\n",
              "    }\n",
              "\n",
              "    [theme=dark] .colab-df-convert {\n",
              "      background-color: #3B4455;\n",
              "      fill: #D2E3FC;\n",
              "    }\n",
              "\n",
              "    [theme=dark] .colab-df-convert:hover {\n",
              "      background-color: #434B5C;\n",
              "      box-shadow: 0px 1px 3px 1px rgba(0, 0, 0, 0.15);\n",
              "      filter: drop-shadow(0px 1px 2px rgba(0, 0, 0, 0.3));\n",
              "      fill: #FFFFFF;\n",
              "    }\n",
              "  </style>\n",
              "\n",
              "      <script>\n",
              "        const buttonEl =\n",
              "          document.querySelector('#df-526dcc32-2cc6-4e4f-952f-5b3ad5151d5b button.colab-df-convert');\n",
              "        buttonEl.style.display =\n",
              "          google.colab.kernel.accessAllowed ? 'block' : 'none';\n",
              "\n",
              "        async function convertToInteractive(key) {\n",
              "          const element = document.querySelector('#df-526dcc32-2cc6-4e4f-952f-5b3ad5151d5b');\n",
              "          const dataTable =\n",
              "            await google.colab.kernel.invokeFunction('convertToInteractive',\n",
              "                                                     [key], {});\n",
              "          if (!dataTable) return;\n",
              "\n",
              "          const docLinkHtml = 'Like what you see? Visit the ' +\n",
              "            '<a target=\"_blank\" href=https://colab.research.google.com/notebooks/data_table.ipynb>data table notebook</a>'\n",
              "            + ' to learn more about interactive tables.';\n",
              "          element.innerHTML = '';\n",
              "          dataTable['output_type'] = 'display_data';\n",
              "          await google.colab.output.renderOutput(dataTable, element);\n",
              "          const docLink = document.createElement('div');\n",
              "          docLink.innerHTML = docLinkHtml;\n",
              "          element.appendChild(docLink);\n",
              "        }\n",
              "      </script>\n",
              "    </div>\n",
              "  </div>\n",
              "  "
            ]
          },
          "metadata": {},
          "execution_count": 66
        }
      ]
    },
    {
      "cell_type": "code",
      "source": [
        "#Unique values in the question_id column\n",
        "df['question_id'].unique()"
      ],
      "metadata": {
        "colab": {
          "base_uri": "https://localhost:8080/"
        },
        "id": "9QjO6hf7VlXe",
        "outputId": "cf7c2fde-5d65-4ca1-972c-5aa0dab2fbae"
      },
      "execution_count": 67,
      "outputs": [
        {
          "output_type": "execute_result",
          "data": {
            "text/plain": [
              "array([  1,   2,   3,   4,   5,   6,   7,   8,   9,  10,  11,  12,  13,\n",
              "        14,  15,  16,  17,  18,  19,  20,  21,  22,  23,  24,  25,  26,\n",
              "        27,  28,  29,  30,  31,  32,  33,  34,  35,  36,  37,  38,  39,\n",
              "        40,  41,  42,  43,  44,  45,  46,  47,  48,  49,  50,  51,  52,\n",
              "        53,  54,  55,  56,  57,  58,  59,  60,  61,  62,  63,  64,  65,\n",
              "        66,  67,  68,  69,  70,  71,  72,  73,  74,  75,  76,  77,  78,\n",
              "        79,  80,  81,  82,  84,  85,  86,  87,  88,  89,  90,  91,  92,\n",
              "        93,  94,  95,  96,  97,  98,  99, 100, 101, 102, 103, 104])"
            ]
          },
          "metadata": {},
          "execution_count": 67
        }
      ]
    },
    {
      "cell_type": "code",
      "execution_count": 68,
      "metadata": {
        "colab": {
          "base_uri": "https://localhost:8080/"
        },
        "id": "gmgAlehpd1uq",
        "outputId": "46c8db58-790e-4ab0-8342-92d260c1a9c6"
      },
      "outputs": [
        {
          "output_type": "stream",
          "name": "stdout",
          "text": [
            "<class 'pandas.core.frame.DataFrame'>\n",
            "RangeIndex: 2479 entries, 0 to 2478\n",
            "Data columns (total 4 columns):\n",
            " #   Column             Non-Null Count  Dtype \n",
            "---  ------             --------------  ----- \n",
            " 0   question_id        2479 non-null   int64 \n",
            " 1   user_question      2479 non-null   object\n",
            " 2   database_question  2479 non-null   object\n",
            " 3   judge_score        2479 non-null   object\n",
            "dtypes: int64(1), object(3)\n",
            "memory usage: 77.6+ KB\n"
          ]
        }
      ],
      "source": [
        "#Information about columns\n",
        "df.info(verbose = True)"
      ]
    },
    {
      "cell_type": "code",
      "source": [
        "#Discribe the data\n",
        "df.describe()"
      ],
      "metadata": {
        "colab": {
          "base_uri": "https://localhost:8080/",
          "height": 0
        },
        "id": "taeseWyVGk8G",
        "outputId": "8f740b2d-63bb-4055-a753-99bcc910b9c0"
      },
      "execution_count": 69,
      "outputs": [
        {
          "output_type": "execute_result",
          "data": {
            "text/plain": [
              "       question_id\n",
              "count  2479.000000\n",
              "mean     51.393304\n",
              "std      29.858339\n",
              "min       1.000000\n",
              "25%      26.000000\n",
              "50%      50.000000\n",
              "75%      77.000000\n",
              "max     104.000000"
            ],
            "text/html": [
              "\n",
              "  <div id=\"df-a41fef32-1bc5-41cd-8b3d-1fce39c6d86e\">\n",
              "    <div class=\"colab-df-container\">\n",
              "      <div>\n",
              "<style scoped>\n",
              "    .dataframe tbody tr th:only-of-type {\n",
              "        vertical-align: middle;\n",
              "    }\n",
              "\n",
              "    .dataframe tbody tr th {\n",
              "        vertical-align: top;\n",
              "    }\n",
              "\n",
              "    .dataframe thead th {\n",
              "        text-align: right;\n",
              "    }\n",
              "</style>\n",
              "<table border=\"1\" class=\"dataframe\">\n",
              "  <thead>\n",
              "    <tr style=\"text-align: right;\">\n",
              "      <th></th>\n",
              "      <th>question_id</th>\n",
              "    </tr>\n",
              "  </thead>\n",
              "  <tbody>\n",
              "    <tr>\n",
              "      <th>count</th>\n",
              "      <td>2479.000000</td>\n",
              "    </tr>\n",
              "    <tr>\n",
              "      <th>mean</th>\n",
              "      <td>51.393304</td>\n",
              "    </tr>\n",
              "    <tr>\n",
              "      <th>std</th>\n",
              "      <td>29.858339</td>\n",
              "    </tr>\n",
              "    <tr>\n",
              "      <th>min</th>\n",
              "      <td>1.000000</td>\n",
              "    </tr>\n",
              "    <tr>\n",
              "      <th>25%</th>\n",
              "      <td>26.000000</td>\n",
              "    </tr>\n",
              "    <tr>\n",
              "      <th>50%</th>\n",
              "      <td>50.000000</td>\n",
              "    </tr>\n",
              "    <tr>\n",
              "      <th>75%</th>\n",
              "      <td>77.000000</td>\n",
              "    </tr>\n",
              "    <tr>\n",
              "      <th>max</th>\n",
              "      <td>104.000000</td>\n",
              "    </tr>\n",
              "  </tbody>\n",
              "</table>\n",
              "</div>\n",
              "      <button class=\"colab-df-convert\" onclick=\"convertToInteractive('df-a41fef32-1bc5-41cd-8b3d-1fce39c6d86e')\"\n",
              "              title=\"Convert this dataframe to an interactive table.\"\n",
              "              style=\"display:none;\">\n",
              "        \n",
              "  <svg xmlns=\"http://www.w3.org/2000/svg\" height=\"24px\"viewBox=\"0 0 24 24\"\n",
              "       width=\"24px\">\n",
              "    <path d=\"M0 0h24v24H0V0z\" fill=\"none\"/>\n",
              "    <path d=\"M18.56 5.44l.94 2.06.94-2.06 2.06-.94-2.06-.94-.94-2.06-.94 2.06-2.06.94zm-11 1L8.5 8.5l.94-2.06 2.06-.94-2.06-.94L8.5 2.5l-.94 2.06-2.06.94zm10 10l.94 2.06.94-2.06 2.06-.94-2.06-.94-.94-2.06-.94 2.06-2.06.94z\"/><path d=\"M17.41 7.96l-1.37-1.37c-.4-.4-.92-.59-1.43-.59-.52 0-1.04.2-1.43.59L10.3 9.45l-7.72 7.72c-.78.78-.78 2.05 0 2.83L4 21.41c.39.39.9.59 1.41.59.51 0 1.02-.2 1.41-.59l7.78-7.78 2.81-2.81c.8-.78.8-2.07 0-2.86zM5.41 20L4 18.59l7.72-7.72 1.47 1.35L5.41 20z\"/>\n",
              "  </svg>\n",
              "      </button>\n",
              "      \n",
              "  <style>\n",
              "    .colab-df-container {\n",
              "      display:flex;\n",
              "      flex-wrap:wrap;\n",
              "      gap: 12px;\n",
              "    }\n",
              "\n",
              "    .colab-df-convert {\n",
              "      background-color: #E8F0FE;\n",
              "      border: none;\n",
              "      border-radius: 50%;\n",
              "      cursor: pointer;\n",
              "      display: none;\n",
              "      fill: #1967D2;\n",
              "      height: 32px;\n",
              "      padding: 0 0 0 0;\n",
              "      width: 32px;\n",
              "    }\n",
              "\n",
              "    .colab-df-convert:hover {\n",
              "      background-color: #E2EBFA;\n",
              "      box-shadow: 0px 1px 2px rgba(60, 64, 67, 0.3), 0px 1px 3px 1px rgba(60, 64, 67, 0.15);\n",
              "      fill: #174EA6;\n",
              "    }\n",
              "\n",
              "    [theme=dark] .colab-df-convert {\n",
              "      background-color: #3B4455;\n",
              "      fill: #D2E3FC;\n",
              "    }\n",
              "\n",
              "    [theme=dark] .colab-df-convert:hover {\n",
              "      background-color: #434B5C;\n",
              "      box-shadow: 0px 1px 3px 1px rgba(0, 0, 0, 0.15);\n",
              "      filter: drop-shadow(0px 1px 2px rgba(0, 0, 0, 0.3));\n",
              "      fill: #FFFFFF;\n",
              "    }\n",
              "  </style>\n",
              "\n",
              "      <script>\n",
              "        const buttonEl =\n",
              "          document.querySelector('#df-a41fef32-1bc5-41cd-8b3d-1fce39c6d86e button.colab-df-convert');\n",
              "        buttonEl.style.display =\n",
              "          google.colab.kernel.accessAllowed ? 'block' : 'none';\n",
              "\n",
              "        async function convertToInteractive(key) {\n",
              "          const element = document.querySelector('#df-a41fef32-1bc5-41cd-8b3d-1fce39c6d86e');\n",
              "          const dataTable =\n",
              "            await google.colab.kernel.invokeFunction('convertToInteractive',\n",
              "                                                     [key], {});\n",
              "          if (!dataTable) return;\n",
              "\n",
              "          const docLinkHtml = 'Like what you see? Visit the ' +\n",
              "            '<a target=\"_blank\" href=https://colab.research.google.com/notebooks/data_table.ipynb>data table notebook</a>'\n",
              "            + ' to learn more about interactive tables.';\n",
              "          element.innerHTML = '';\n",
              "          dataTable['output_type'] = 'display_data';\n",
              "          await google.colab.output.renderOutput(dataTable, element);\n",
              "          const docLink = document.createElement('div');\n",
              "          docLink.innerHTML = docLinkHtml;\n",
              "          element.appendChild(docLink);\n",
              "        }\n",
              "      </script>\n",
              "    </div>\n",
              "  </div>\n",
              "  "
            ]
          },
          "metadata": {},
          "execution_count": 69
        }
      ]
    },
    {
      "cell_type": "code",
      "source": [
        "#Check for null values\n",
        "print('Number of null values:\\n\\n',df.isnull().sum())\n",
        "\n",
        "#Number of duplicated data\n",
        "print('\\nNumber of duplicated rows: ',df.duplicated().sum())\n",
        "\n",
        "#Remove all duplicated rows except the first row from duplicate\n",
        "df.drop_duplicates(inplace = True)"
      ],
      "metadata": {
        "colab": {
          "base_uri": "https://localhost:8080/"
        },
        "id": "9IKx4ZSZBdF1",
        "outputId": "c89daacc-8423-4bf2-85a2-2d74b41e5a62"
      },
      "execution_count": 70,
      "outputs": [
        {
          "output_type": "stream",
          "name": "stdout",
          "text": [
            "Number of null values:\n",
            "\n",
            " question_id          0\n",
            "user_question        0\n",
            "database_question    0\n",
            "judge_score          0\n",
            "dtype: int64\n",
            "\n",
            "Number of duplicated rows:  163\n"
          ]
        }
      ]
    },
    {
      "cell_type": "markdown",
      "source": [
        "##Preprocessing"
      ],
      "metadata": {
        "id": "d3LoJJ4IOcKk"
      }
    },
    {
      "cell_type": "markdown",
      "source": [
        "### Clean user_question and database_question columns"
      ],
      "metadata": {
        "id": "qNou0bHYqiJF"
      }
    },
    {
      "cell_type": "code",
      "source": [
        "#Using english language \n",
        "stemmer = SnowballStemmer(\"english\")\n",
        "stop_words = set(stopwords.words(\"english\"))\n",
        "\n",
        "def clean_text(text):\n",
        "    \"\"\" steps:\n",
        "        - Keep only ASCII + European Chars and whitespace, no digits\n",
        "        - remove single letter chars\n",
        "        - convert all whitespaces (tabs etc.) to single wspace\n",
        "        - all lowercase\n",
        "        - remove stopwords, punctuation and stemm\n",
        "    \"\"\"\n",
        "    RE_WSPACE = re.compile(r\"\\s+\", re.IGNORECASE)  #White Space\n",
        "    RE_TAGS = re.compile(r\"<[^>]+>\")    #Tags\n",
        "    RE_ASCII = re.compile(r\"[^A-Za-zÀ-ž ]\", re.IGNORECASE)    #ASCII\n",
        "    RE_SINGLECHAR = re.compile(r\"\\b[A-Za-zÀ-ž]\\b\", re.IGNORECASE) #Single charachter between two spaces\n",
        "\n",
        "    #Replace White Space, Tags, ASCII and Single charachter between two spaces with single space\n",
        "    text = re.sub(RE_TAGS, \" \", text)\n",
        "    text = re.sub(RE_ASCII, \" \", text)\n",
        "    text = re.sub(RE_SINGLECHAR, \" \", text)\n",
        "    text = re.sub(RE_WSPACE, \" \", text)\n",
        "    \n",
        "    #Tokanization\n",
        "    word_tokens = word_tokenize(text)\n",
        "    words_tokens_lower = [word.lower() for word in word_tokens]\n",
        "    # words_tokens_lower = [[word.lower() for word in text.split()] for text in word_tokens]\n",
        "    \n",
        "    #Remove stop wprds\n",
        "    words_filtered = [\n",
        "        w for w in words_tokens_lower if not w.lower() in stop_words\n",
        "    ]\n",
        "\n",
        "    text_clean = \" \".join(words_filtered)\n",
        "    return text_clean\n",
        "\n",
        "#Remove all words less than 3 letters\n",
        "def remove_short(sentence):\n",
        "    return ' '.join([word for word in sentence.split() if len(word) >= 3])\n",
        "    \n",
        "def remove_digits(sentence):\n",
        "    return ' '.join([i for i in sentence.split() if not i.isdigit()])\n",
        "\n",
        "#Apply the function of each row in the Title column\n",
        "df['user_question'] = df['user_question'].apply(lambda x: clean_text(x))\n",
        "df['user_question'] = df['user_question'].apply(lambda x: remove_short(x))\n",
        "# df['user_question'] = df['user_question'].apply(lambda x: remove_digits(x))\n",
        "df['database_question'] = df['database_question'].apply(lambda x: clean_text(x))\n",
        "df['database_question'] = df['database_question'].apply(lambda x: remove_short(x))\n",
        "# df['database_question'] = df['database_question'].apply(lambda x: remove_digits(x))\n",
        "\n",
        "df['user_question']"
      ],
      "metadata": {
        "id": "u2U1-QZOsh7O",
        "colab": {
          "base_uri": "https://localhost:8080/"
        },
        "outputId": "39c8b9cc-2a90-485f-ddae-828814f45443"
      },
      "execution_count": 71,
      "outputs": [
        {
          "output_type": "execute_result",
          "data": {
            "text/plain": [
              "0       references noonan syndrome polycystic renal di...\n",
              "1       references noonan syndrome polycystic renal di...\n",
              "2       references noonan syndrome polycystic renal di...\n",
              "3       references noonan syndrome polycystic renal di...\n",
              "4       references noonan syndrome polycystic renal di...\n",
              "                              ...                        \n",
              "2474    please provide glimepiride storage allowable t...\n",
              "2475    please provide glimepiride storage allowable t...\n",
              "2476    please provide glimepiride storage allowable t...\n",
              "2477    please provide glimepiride storage allowable t...\n",
              "2478    please provide glimepiride storage allowable t...\n",
              "Name: user_question, Length: 2316, dtype: object"
            ]
          },
          "metadata": {},
          "execution_count": 71
        }
      ]
    },
    {
      "cell_type": "code",
      "source": [
        "#Remove all \\n or \\t and so on\n",
        "w_tokenizer = nltk.tokenize.WhitespaceTokenizer()\n",
        "\n",
        "#lemmatization returns the word to its origin like(playing ==> play)\n",
        "lemmatizer = nltk.stem.WordNetLemmatizer()\n",
        "\n",
        "def lemmatize_text(text):\n",
        "    #Implement the lemmatize function in each row\n",
        "    lemm_content = [lemmatizer.lemmatize(w) for w in w_tokenizer.tokenize(text)]\n",
        "    # lemm_content = ' '.join(lemm_content)\n",
        "    return lemm_content\n",
        "\n",
        "#Apply the function of each row in the Clean_text column\n",
        "df['user_question'] = df['user_question'].apply(lemmatize_text)\n",
        "df['database_question'] = df['database_question'].apply(lemmatize_text)\n"
      ],
      "metadata": {
        "id": "wSv8O0Xdsh9m"
      },
      "execution_count": 72,
      "outputs": []
    },
    {
      "cell_type": "code",
      "source": [
        "#Display user_question and database_question\n",
        "print(df['user_question'][0])\n",
        "print(df['database_question'][0])"
      ],
      "metadata": {
        "colab": {
          "base_uri": "https://localhost:8080/"
        },
        "id": "WdeRE2K6sh_y",
        "outputId": "44f34a28-f4fe-411b-d625-e9f7fad59f4c"
      },
      "execution_count": 73,
      "outputs": [
        {
          "output_type": "stream",
          "name": "stdout",
          "text": [
            "['reference', 'noonan', 'syndrome', 'polycystic', 'renal', 'disease']\n",
            "['polycystic', 'ovary', 'syndrome', 'also', 'called', 'polycystic', 'ovary', 'polycystic', 'ovary', 'disease', 'stein', 'leventhal', 'syndrome', 'polyfollicular', 'ovarian', 'disease']\n"
          ]
        }
      ]
    },
    {
      "cell_type": "markdown",
      "source": [
        "### Clean column \"judge_score\""
      ],
      "metadata": {
        "id": "-y0LpZvRnu_3"
      }
    },
    {
      "cell_type": "code",
      "source": [
        "#Display unique values\n",
        "df['judge_score'].unique()"
      ],
      "metadata": {
        "colab": {
          "base_uri": "https://localhost:8080/"
        },
        "id": "5J0jbYckD12U",
        "outputId": "8a833ff3-a8a0-432b-d5c6-01d94baa1e5e"
      },
      "execution_count": null,
      "outputs": [
        {
          "output_type": "execute_result",
          "data": {
            "text/plain": [
              "array(['1-Incorrect', '2-Related', '3-Incomplete', '4-Excellent'],\n",
              "      dtype=object)"
            ]
          },
          "metadata": {},
          "execution_count": 13
        }
      ]
    },
    {
      "cell_type": "code",
      "source": [
        "#Remove all words in the column just we take the number{'1':'Incorrect', '2': 'Related', '3': 'Incomplete', '4': 'Excellent'}\n",
        "df['judge_score']=df['judge_score'].str.replace(r'[a-zA-z]',\"\")\n",
        "\n",
        "#Removing '-'\n",
        "df['judge_score']=df['judge_score'].str.replace(r'-',\"\")\n",
        "\n",
        "#convert column type into int\n",
        "df['judge_score'].astype(int)\n",
        "\n",
        "#Display unique values in the column\n",
        "df['judge_score'].value_counts()"
      ],
      "metadata": {
        "colab": {
          "base_uri": "https://localhost:8080/"
        },
        "id": "Xllbn1nNoQ0S",
        "outputId": "7ad36cbc-ac99-40bd-f305-4c521e5a0b60"
      },
      "execution_count": null,
      "outputs": [
        {
          "output_type": "stream",
          "name": "stderr",
          "text": [
            "/usr/local/lib/python3.7/dist-packages/ipykernel_launcher.py:2: FutureWarning: The default value of regex will change from True to False in a future version.\n",
            "  \n"
          ]
        },
        {
          "output_type": "execute_result",
          "data": {
            "text/plain": [
              "1    1339\n",
              "2     630\n",
              "3     215\n",
              "4     132\n",
              "Name: judge_score, dtype: int64"
            ]
          },
          "metadata": {},
          "execution_count": 14
        }
      ]
    },
    {
      "cell_type": "code",
      "source": [
        "df['judge_score']"
      ],
      "metadata": {
        "colab": {
          "base_uri": "https://localhost:8080/"
        },
        "id": "crEJCWBuZ-GQ",
        "outputId": "968354af-95c3-4d52-de0b-6fdd7269ac78"
      },
      "execution_count": null,
      "outputs": [
        {
          "output_type": "execute_result",
          "data": {
            "text/plain": [
              "0       1\n",
              "1       1\n",
              "2       2\n",
              "3       2\n",
              "4       2\n",
              "       ..\n",
              "2474    2\n",
              "2475    2\n",
              "2476    2\n",
              "2477    2\n",
              "2478    4\n",
              "Name: judge_score, Length: 2316, dtype: int64"
            ]
          },
          "metadata": {},
          "execution_count": 64
        }
      ]
    },
    {
      "cell_type": "code",
      "source": [
        "import matplotlib.pyplot as plt \n",
        "% matplotlib inline\n",
        "# fig = plt.figure(figsize =(10, 7))\n",
        " \n",
        "#Convert values into numeric\n",
        "df[\"judge_score\"] = df[\"judge_score\"].apply(pd.to_numeric) \n",
        "\n",
        "# Creating plot\n",
        "df[\"judge_score\"].plot.box(figsize=(10, 8))\n"
      ],
      "metadata": {
        "colab": {
          "base_uri": "https://localhost:8080/",
          "height": 501
        },
        "id": "yOOy-uluDogn",
        "outputId": "67e52648-a21c-4ff2-de2a-fd823d25014e"
      },
      "execution_count": null,
      "outputs": [
        {
          "output_type": "execute_result",
          "data": {
            "text/plain": [
              "<matplotlib.axes._subplots.AxesSubplot at 0x7fc8c3854b90>"
            ]
          },
          "metadata": {},
          "execution_count": 15
        },
        {
          "output_type": "display_data",
          "data": {
            "text/plain": [
              "<Figure size 720x576 with 1 Axes>"
            ],
            "image/png": "[encoded data removed]"
          },
          "metadata": {
            "needs_background": "light"
          }
        }
      ]
    },
    {
      "cell_type": "markdown",
      "source": [
        "We did not remove the 4 value as the outlier because this is an important value in our data, so we conceded it as imbalanced data, so we will solve it by oversampling."
      ],
      "metadata": {
        "id": "KsyiAEG9DuvU"
      }
    },
    {
      "cell_type": "markdown",
      "source": [
        "##Splitting the data"
      ],
      "metadata": {
        "id": "qVRK-Q3mfqst"
      }
    },
    {
      "cell_type": "code",
      "source": [
        "#Split data into input -> X and output -> y\n",
        "y = df['judge_score']\n",
        "X = df.drop(columns=['judge_score'])\n",
        "# X = tfidf_df"
      ],
      "metadata": {
        "id": "_KUEkFQZhCha"
      },
      "execution_count": null,
      "outputs": []
    },
    {
      "cell_type": "code",
      "source": [
        "#Split dataset into 80% -> Training & 20% -> testing\n",
        "X_train, X_test, y_train, y_test = train_test_split(X, y, test_size=0.2, random_state= 120)\n",
        "y_train"
      ],
      "metadata": {
        "id": "20bFJPo5f5AY",
        "colab": {
          "base_uri": "https://localhost:8080/"
        },
        "outputId": "d5da67d8-3a3f-4549-9bde-661fd4fc2103"
      },
      "execution_count": null,
      "outputs": [
        {
          "output_type": "execute_result",
          "data": {
            "text/plain": [
              "307     1\n",
              "1436    1\n",
              "1990    1\n",
              "871     4\n",
              "1215    1\n",
              "       ..\n",
              "581     2\n",
              "10      3\n",
              "767     1\n",
              "1245    1\n",
              "1890    1\n",
              "Name: judge_score, Length: 1852, dtype: int64"
            ]
          },
          "metadata": {},
          "execution_count": 17
        }
      ]
    },
    {
      "cell_type": "markdown",
      "source": [
        "##Imbalanced Data"
      ],
      "metadata": {
        "id": "Sx9b5p5S-BkB"
      }
    },
    {
      "cell_type": "code",
      "source": [
        "# visualize the target variable\n",
        "g = sns.countplot(y_train)\n",
        "g.set_xticklabels(['1','2', '3', '4'])\n",
        "plt.show()"
      ],
      "metadata": {
        "colab": {
          "base_uri": "https://localhost:8080/",
          "height": 335
        },
        "id": "FMgXrVO2-mtr",
        "outputId": "1033182e-dc41-481e-8254-5575fcc3e15c"
      },
      "execution_count": null,
      "outputs": [
        {
          "output_type": "stream",
          "name": "stderr",
          "text": [
            "/usr/local/lib/python3.7/dist-packages/seaborn/_decorators.py:43: FutureWarning: Pass the following variable as a keyword arg: x. From version 0.12, the only valid positional argument will be `data`, and passing other arguments without an explicit keyword will result in an error or misinterpretation.\n",
            "  FutureWarning\n"
          ]
        },
        {
          "output_type": "display_data",
          "data": {
            "text/plain": [
              "<Figure size 432x288 with 1 Axes>"
            ],
            "image/png": "[encoded data removed]"
          },
          "metadata": {
            "needs_background": "light"
          }
        }
      ]
    },
    {
      "cell_type": "code",
      "source": [
        "#Solve imbalanced data\n",
        "ros = RandomOverSampler(random_state=42)\n",
        "X_Train_balanced, y_Train_balanced = ros.fit_resample(X_train, y_train)\n",
        "# fit predictor and target variablex_ros, y_ros = ros.fit_resample(X_train, y_train)\n",
        "\n",
        "print('Original dataset shape', collections.Counter(y_train))\n",
        "print('Resample dataset shape', collections.Counter(y_Train_balanced))"
      ],
      "metadata": {
        "colab": {
          "base_uri": "https://localhost:8080/"
        },
        "id": "1NDZPY1gSQum",
        "outputId": "9e9a09fa-0dff-4547-d22c-fbcab073fe12"
      },
      "execution_count": null,
      "outputs": [
        {
          "output_type": "stream",
          "name": "stdout",
          "text": [
            "Original dataset shape Counter({1: 1060, 2: 512, 3: 169, 4: 111})\n",
            "Resample dataset shape Counter({1: 1060, 4: 1060, 2: 1060, 3: 1060})\n"
          ]
        }
      ]
    },
    {
      "cell_type": "code",
      "source": [
        "print(X_Train_balanced.shape)\n",
        "print(y_Train_balanced.shape)"
      ],
      "metadata": {
        "colab": {
          "base_uri": "https://localhost:8080/"
        },
        "id": "zcggQ8eknuvU",
        "outputId": "f1f74bd0-c6db-4586-9a43-f836e3d211b9"
      },
      "execution_count": null,
      "outputs": [
        {
          "output_type": "stream",
          "name": "stdout",
          "text": [
            "(4240, 3)\n",
            "(4240,)\n"
          ]
        }
      ]
    },
    {
      "cell_type": "code",
      "source": [
        "# visualize the target variable\n",
        "g = sns.countplot(y_Train_balanced)\n",
        "g.set_xticklabels(['1','2', '3', '4'])\n",
        "plt.show()"
      ],
      "metadata": {
        "colab": {
          "base_uri": "https://localhost:8080/",
          "height": 335
        },
        "id": "rZ3ejqB9Vn84",
        "outputId": "1a5a4ee5-dd43-4b2b-96e6-1dbb9f460be7"
      },
      "execution_count": null,
      "outputs": [
        {
          "output_type": "stream",
          "name": "stderr",
          "text": [
            "/usr/local/lib/python3.7/dist-packages/seaborn/_decorators.py:43: FutureWarning: Pass the following variable as a keyword arg: x. From version 0.12, the only valid positional argument will be `data`, and passing other arguments without an explicit keyword will result in an error or misinterpretation.\n",
            "  FutureWarning\n"
          ]
        },
        {
          "output_type": "display_data",
          "data": {
            "text/plain": [
              "<Figure size 432x288 with 1 Axes>"
            ],
            "image/png": "[encoded data removed]"
          },
          "metadata": {
            "needs_background": "light"
          }
        }
      ]
    },
    {
      "cell_type": "code",
      "source": [
        "print(X_Train_balanced.shape)\n",
        "# print(y_Train_balanced.value_counts())"
      ],
      "metadata": {
        "id": "oaz7B9-gVJuz",
        "colab": {
          "base_uri": "https://localhost:8080/"
        },
        "outputId": "1fafa69c-a6d9-4c3a-b912-1bf47289242c"
      },
      "execution_count": null,
      "outputs": [
        {
          "output_type": "stream",
          "name": "stdout",
          "text": [
            "(4240, 3)\n"
          ]
        }
      ]
    },
    {
      "cell_type": "markdown",
      "source": [
        "##Similarity Algorithms"
      ],
      "metadata": {
        "id": "FTp3nPlehkJx"
      }
    },
    {
      "cell_type": "markdown",
      "source": [
        "###Jaccard Similarity"
      ],
      "metadata": {
        "id": "N93BTvfj5XGT"
      }
    },
    {
      "cell_type": "code",
      "source": [
        "def jaccard_similarity(A, B):\n",
        "    #Find intersection of two sets\n",
        "    nominator = set(A).intersection(set(B))\n",
        "\n",
        "    #Find union of two sets\n",
        "    denominator = set(A).union(set(B))\n",
        "\n",
        "    #Take the ratio of sizes\n",
        "    similarity = len(nominator)/len(denominator)\n",
        "    \n",
        "    return similarity"
      ],
      "metadata": {
        "id": "utQ450uRTq1N"
      },
      "execution_count": null,
      "outputs": []
    },
    {
      "cell_type": "code",
      "source": [
        "# Apply jaccard_similarity on questions training\n",
        "X_Train_balanced['Jaccard_Similarity'] = X_Train_balanced.apply(lambda x:jaccard_similarity(x['database_question'], x['user_question']), axis=1)\n",
        "\n",
        "# Apply jaccard_similarity on questions testing\n",
        "X_test['Jaccard_Similarity'] = X_test.apply(lambda x:jaccard_similarity(x['database_question'], x['user_question']), axis=1)\n"
      ],
      "metadata": {
        "id": "MAnK206jUkIz"
      },
      "execution_count": null,
      "outputs": []
    },
    {
      "cell_type": "code",
      "source": [
        "#Confirm the dimension of the columns\n",
        "#Training data\n",
        "print(\"\\t\\t\\tTraining Data\")\n",
        "print('Dimension of X train', X_Train_balanced.shape)\n",
        "print('Dimension of X train of database question column', X_Train_balanced['database_question'].shape)\n",
        "print('Dimension of X train of user question column', X_Train_balanced['user_question'].shape)\n",
        "print('Dimension of y train', y_Train_balanced.shape)\n",
        "print('Dimension of similarity column in traing data', X_Train_balanced['Jaccard_Similarity'].shape)\n",
        "\n",
        "#Test data\n",
        "print(\"\\t\\t\\tTesting Data\")\n",
        "print('Dimension of X test', X_test.shape)\n",
        "print('Dimension of y test', y_test.shape)\n",
        "print('Dimension of similarity column in testing data', X_test['Jaccard_Similarity'].shape)"
      ],
      "metadata": {
        "colab": {
          "base_uri": "https://localhost:8080/"
        },
        "id": "s4AWbJlen6lW",
        "outputId": "1e64ec80-1ddf-40e0-d11c-5f1b638e3307"
      },
      "execution_count": null,
      "outputs": [
        {
          "output_type": "stream",
          "name": "stdout",
          "text": [
            "\t\t\tTraining Data\n",
            "Dimension of X train (4240, 4)\n",
            "Dimension of X train of database question column (4240,)\n",
            "Dimension of X train of user question column (4240,)\n",
            "Dimension of y train (4240,)\n",
            "Dimension of similarity column in traing data (4240,)\n",
            "\t\t\tTesting Data\n",
            "Dimension of X test (464, 4)\n",
            "Dimension of y test (464,)\n",
            "Dimension of similarity column in testing data (464,)\n"
          ]
        }
      ]
    },
    {
      "cell_type": "code",
      "source": [
        "X_Train_balanced['Jaccard_Similarity']"
      ],
      "metadata": {
        "colab": {
          "base_uri": "https://localhost:8080/"
        },
        "id": "REWhp17a9xrU",
        "outputId": "131bd55a-8daf-4d0d-b0e1-c40886330a02"
      },
      "execution_count": null,
      "outputs": [
        {
          "output_type": "execute_result",
          "data": {
            "text/plain": [
              "0       0.000000\n",
              "1       0.000000\n",
              "2       0.080000\n",
              "3       0.166667\n",
              "4       0.090909\n",
              "          ...   \n",
              "4235    0.222222\n",
              "4236    0.181818\n",
              "4237    0.062500\n",
              "4238    0.000000\n",
              "4239    0.285714\n",
              "Name: Jaccard_Similarity, Length: 4240, dtype: float64"
            ]
          },
          "metadata": {},
          "execution_count": 26
        }
      ]
    },
    {
      "cell_type": "markdown",
      "source": [
        "###Levenshtein Similarity"
      ],
      "metadata": {
        "id": "CsoQmiQ48NS5"
      }
    },
    {
      "cell_type": "code",
      "source": [
        "# Apply Levenshtein_Similarity on questions training\n",
        "#We use ' '.join(map(str, x['database_question'])) to convert each row from list to string\n",
        "\n",
        "X_Train_balanced['Levenshtein_Similarity'] = X_Train_balanced.apply(lambda x:levenshtein_distance(' '.join(map(str, x['database_question'])), ' '.join(map(str, x['user_question']))), axis=1)\n",
        "X_Train_balanced['Levenshtein_Similarity']\n",
        "\n",
        "\n",
        "# Apply Levenshtein_Similarity on questions testing\n",
        "X_test['Levenshtein_Similarity'] = X_test.apply(lambda x:levenshtein_distance(' '.join(map(str, x['database_question'])), ' '.join(map(str, x['user_question']))), axis=1)\n"
      ],
      "metadata": {
        "id": "BC4mQy8q8NTD"
      },
      "execution_count": null,
      "outputs": []
    },
    {
      "cell_type": "code",
      "source": [
        "#Display values of the column\n",
        "X_Train_balanced['Levenshtein_Similarity']"
      ],
      "metadata": {
        "colab": {
          "base_uri": "https://localhost:8080/"
        },
        "id": "Bf3o6H_ZSyPi",
        "outputId": "58118871-7433-48ed-b3c7-f4e6596e24c0"
      },
      "execution_count": null,
      "outputs": [
        {
          "output_type": "execute_result",
          "data": {
            "text/plain": [
              "0       150\n",
              "1        41\n",
              "2       113\n",
              "3        81\n",
              "4        68\n",
              "       ... \n",
              "4235     33\n",
              "4236     57\n",
              "4237     57\n",
              "4238     33\n",
              "4239     76\n",
              "Name: Levenshtein_Similarity, Length: 4240, dtype: int64"
            ]
          },
          "metadata": {},
          "execution_count": 28
        }
      ]
    },
    {
      "cell_type": "code",
      "source": [
        "#Confirm the dimension of the columns\n",
        "#Training data\n",
        "print(\"\\t\\t\\tTraining Data\")\n",
        "print('Dimension of X train', X_Train_balanced.shape)\n",
        "print('Dimension of X train of database question column', X_Train_balanced['database_question'].shape)\n",
        "print('Dimension of X train of user question column', X_Train_balanced['user_question'].shape)\n",
        "print('Dimension of y train', y_Train_balanced.shape)\n",
        "print('Dimension of similarity column in traing data', X_Train_balanced['Levenshtein_Similarity'].shape)\n",
        "\n",
        "#Test data\n",
        "print(\"\\n\\t\\t\\tTesting Data\")\n",
        "print('Dimension of X test', X_test.shape)\n",
        "print('Dimension of y test', y_test.shape)\n",
        "print('Dimension of similarity column in testing data', X_test['Levenshtein_Similarity'].shape)"
      ],
      "metadata": {
        "colab": {
          "base_uri": "https://localhost:8080/"
        },
        "outputId": "5e195dec-f498-4b23-9b8f-a2e66e85a925",
        "id": "DftoY0Lx8NTD"
      },
      "execution_count": null,
      "outputs": [
        {
          "output_type": "stream",
          "name": "stdout",
          "text": [
            "\t\t\tTraining Data\n",
            "Dimension of X train (4240, 5)\n",
            "Dimension of X train of database question column (4240,)\n",
            "Dimension of X train of user question column (4240,)\n",
            "Dimension of y train (4240,)\n",
            "Dimension of similarity column in traing data (4240,)\n",
            "\n",
            "\t\t\tTesting Data\n",
            "Dimension of X test (464, 5)\n",
            "Dimension of y test (464,)\n",
            "Dimension of similarity column in testing data (464,)\n"
          ]
        }
      ]
    },
    {
      "cell_type": "markdown",
      "source": [
        "###Dice Coefficient"
      ],
      "metadata": {
        "id": "SLEMUkI6OiOb"
      }
    },
    {
      "cell_type": "code",
      "source": [
        "def dice_coefficient(a, b):\n",
        "    \"\"\"dice coefficient 2nt/(na + nb).\"\"\"\n",
        "    \"\"\"\n",
        "    Computes the Dice coefficient, a measure of set similarity.\n",
        "    Parameters\n",
        "    ----------\n",
        "    a : string\n",
        "    b : string\n",
        "    \n",
        "    Returns\n",
        "    -------\n",
        "    dice : float\n",
        "        Dice coefficient as a float on range [0,1].\n",
        "        Maximum similarity = 1\n",
        "        No similarity = 0\n",
        "    \"\"\"\n",
        "    if not len(a) or not len(b): return 0.0\n",
        "    if len(a) == 1:  a=a+u'.'\n",
        "    if len(b) == 1:  b=b+u'.'\n",
        "    \n",
        "    a_bigram_list=[]\n",
        "    for i in range(len(a)-1):\n",
        "      a_bigram_list.append(a[i:i+2])\n",
        "    b_bigram_list=[]\n",
        "    for i in range(len(b)-1):\n",
        "      b_bigram_list.append(b[i:i+2])\n",
        "      \n",
        "    a_bigrams = set(a_bigram_list)\n",
        "    b_bigrams = set(b_bigram_list)\n",
        "    overlap = len(a_bigrams & b_bigrams)\n",
        "    dice_coeff = overlap * 2.0/(len(a_bigrams) + len(b_bigrams))\n",
        "    return dice_coeff"
      ],
      "metadata": {
        "id": "ziPVB3ywOgd8"
      },
      "execution_count": null,
      "outputs": []
    },
    {
      "cell_type": "code",
      "source": [
        "dice_coefficient('marim amer', 'amer Marim')\n",
        "dice_coefficient('amer ', 'amer')"
      ],
      "metadata": {
        "colab": {
          "base_uri": "https://localhost:8080/"
        },
        "id": "HO53yULNTGv2",
        "outputId": "e44f4102-92a5-4616-dc6d-19e2ec146f9b"
      },
      "execution_count": null,
      "outputs": [
        {
          "output_type": "execute_result",
          "data": {
            "text/plain": [
              "0.8571428571428571"
            ]
          },
          "metadata": {},
          "execution_count": 31
        }
      ]
    },
    {
      "cell_type": "code",
      "source": [
        "# Apply Dice_Coefficient_Similarity on questions training\n",
        "X_Train_balanced['Dice_Coefficient_Similarity'] = X_Train_balanced.apply(lambda x:dice_coefficient(' '.join(map(str, x['database_question'])), ' '.join(map(str, x['user_question']))), axis=1)\n",
        "\n",
        "# Apply Dice_Coefficient_Similarity on questions testing\n",
        "X_test['Dice_Coefficient_Similarity'] = X_test.apply(lambda x:dice_coefficient(' '.join(map(str, x['database_question'])), ' '.join(map(str, x['user_question']))), axis=1)\n"
      ],
      "metadata": {
        "id": "U-fXAyiGOzBL"
      },
      "execution_count": null,
      "outputs": []
    },
    {
      "cell_type": "markdown",
      "source": [
        "###Overlap Coefficient"
      ],
      "metadata": {
        "id": "DgnkjF5G8TGS"
      }
    },
    {
      "cell_type": "code",
      "source": [
        "import py_stringmatching as sm\n",
        "oc = sm.OverlapCoefficient()"
      ],
      "metadata": {
        "id": "C4X_rG008TGT"
      },
      "execution_count": null,
      "outputs": []
    },
    {
      "cell_type": "code",
      "source": [
        "# Apply jaccard_similarity on questions training\n",
        "X_Train_balanced['Overlap_Coefficient_Similarity'] = X_Train_balanced.apply(lambda x:oc.get_raw_score(x['database_question'], x['user_question']), axis=1)\n",
        "\n",
        "# Apply jaccard_similarity on questions testing\n",
        "X_test['Overlap_Coefficient_Similarity'] = X_test.apply(lambda x:oc.get_raw_score(x['database_question'], x['user_question']), axis=1)"
      ],
      "metadata": {
        "id": "NgFIDtp78TGT"
      },
      "execution_count": null,
      "outputs": []
    },
    {
      "cell_type": "code",
      "source": [
        "X_Train_balanced['Overlap_Coefficient_Similarity']"
      ],
      "metadata": {
        "colab": {
          "base_uri": "https://localhost:8080/"
        },
        "id": "N_l55Q2Mi36W",
        "outputId": "b0542135-fe78-4d28-a6d5-7be62dfc1e7c"
      },
      "execution_count": null,
      "outputs": [
        {
          "output_type": "execute_result",
          "data": {
            "text/plain": [
              "0       0.000000\n",
              "1       0.000000\n",
              "2       0.285714\n",
              "3       0.428571\n",
              "4       0.500000\n",
              "          ...   \n",
              "4235    0.400000\n",
              "4236    0.500000\n",
              "4237    0.125000\n",
              "4238    0.000000\n",
              "4239    0.666667\n",
              "Name: Overlap_Coefficient_Similarity, Length: 4240, dtype: float64"
            ]
          },
          "metadata": {},
          "execution_count": 35
        }
      ]
    },
    {
      "cell_type": "markdown",
      "source": [
        "###Cosine Similarity"
      ],
      "metadata": {
        "id": "q9111ZfpbuIe"
      }
    },
    {
      "cell_type": "code",
      "source": [
        "import py_stringmatching as sm\n",
        "cos = sm.Cosine()\n",
        "# cos.get_raw_score(['marim'], ['Marim', 'amer'])"
      ],
      "metadata": {
        "id": "PA7fHelVbuIm"
      },
      "execution_count": null,
      "outputs": []
    },
    {
      "cell_type": "code",
      "source": [
        "# Apply jaccard_similarity on questions training\n",
        "X_Train_balanced['Cosine_Similarity'] = X_Train_balanced.apply(lambda x:cos.get_raw_score(x['database_question'], x['user_question']), axis=1)\n",
        "\n",
        "# Apply jaccard_similarity on questions testing\n",
        "X_test['Cosine_Similarity'] = X_test.apply(lambda x:cos.get_raw_score(x['database_question'], x['user_question']), axis=1)"
      ],
      "metadata": {
        "id": "WAuA5O4wbuIn"
      },
      "execution_count": null,
      "outputs": []
    },
    {
      "cell_type": "code",
      "source": [
        "X_Train_balanced['Cosine_Similarity']"
      ],
      "metadata": {
        "colab": {
          "base_uri": "https://localhost:8080/"
        },
        "id": "_bmsfg6Pi_yI",
        "outputId": "99c15f68-f347-4ad5-8788-da95f810a510"
      },
      "execution_count": null,
      "outputs": [
        {
          "output_type": "execute_result",
          "data": {
            "text/plain": [
              "0       0.000000\n",
              "1       0.000000\n",
              "2       0.169031\n",
              "3       0.303046\n",
              "4       0.223607\n",
              "          ...   \n",
              "4235    0.365148\n",
              "4236    0.333333\n",
              "4237    0.117851\n",
              "4238    0.000000\n",
              "4239    0.471405\n",
              "Name: Cosine_Similarity, Length: 4240, dtype: float64"
            ]
          },
          "metadata": {},
          "execution_count": 38
        }
      ]
    },
    {
      "cell_type": "markdown",
      "source": [
        "##Models"
      ],
      "metadata": {
        "id": "LtKi2rYD5iYb"
      }
    },
    {
      "cell_type": "markdown",
      "source": [
        "###Neural Network \n",
        "\n",
        "(1) Mean Absolute Error: 0.8319558968831753 Jaccard_Similarity\n",
        "\n",
        "(2) Mean Absolute Error: 0.771062014431789 Levenshtein_Similarity\n",
        "\n",
        "(3) Mean Absolute Error: 0.8227056532070555 Dice_Coefficient_Similarity\n",
        "\n",
        "(4) Mean Absolute Error: 0.7907542617156588 Overlap_Coefficient_Similarity\n",
        "\n",
        "(5) Mean Absolute Error: 0.790296655276726 Cosine_Similarity\n",
        "\n",
        "(6) Mean Absolute Error: 0.6305673508637253 'Jaccard_Similarity','Levenshtein_Similarity', 'Dice_Coefficient_Similarity', 'Overlap_Coefficient_Similarity'\n",
        " \n",
        "(7) Mean Absolute Error: 0.7991610693520513 'Jaccard_Similarity', 'Dice_Coefficient_Similarity', 'Overlap_Coefficient_Similarity'\n",
        "\n",
        "(8) Mean Absolute Error: 0.7957715965036688 Cosine_Similarity & Overlap_Coefficient_Similarity & Jaccard_Similarity & Dice_Coefficient_Similarity & Levenshtein_Similarity"
      ],
      "metadata": {
        "id": "argeuMxC5kWT"
      }
    },
    {
      "cell_type": "code",
      "source": [
        "# importing the libraries\n",
        "from keras.models import Sequential\n",
        "from keras.layers import Dense\n",
        "\n",
        "# create NN model\n",
        "model = Sequential()\n",
        "\n",
        "# Defining the Input layer and FIRST hidden layer, both are same!\n",
        "model.add(Dense(units=5, input_dim=1, kernel_initializer='normal', activation='relu'))\n",
        "\n",
        "# Defining the Second layer of the model\n",
        "# after the first layer we don't have to specify input_dim as keras configure it automatically\n",
        "model.add(Dense(units=200, kernel_initializer='normal', activation='sigmoid'))\n",
        "model.add(Dense(units=150, kernel_initializer='normal', activation='relu'))\n",
        "model.add(Dense(units=50, kernel_initializer='normal', activation='relu'))\n",
        "\n",
        "# The output neuron is a single fully connected node \n",
        "# Since we will be predicting a single number\n",
        "model.add(Dense(1, kernel_initializer='normal'))\n",
        "\n",
        "# Compiling the model\n",
        "model.compile(loss='mean_absolute_error', optimizer='adam')\n",
        "# X_Train_balanced[:, ]\n",
        "# Fitting the NN to the Training set\n",
        "history = model.fit(X_Train_balanced[['Jaccard_Similarity']], y_Train_balanced ,batch_size = 20, epochs = 150, validation_split=0.2, verbose=1)"
      ],
      "metadata": {
        "colab": {
          "base_uri": "https://localhost:8080/"
        },
        "id": "d1loCKZfUkLx",
        "outputId": "4337a1bb-58c4-43f2-f26c-0942889195aa"
      },
      "execution_count": null,
      "outputs": [
        {
          "output_type": "stream",
          "name": "stdout",
          "text": [
            "Epoch 1/150\n",
            "170/170 [==============================] - 1s 3ms/step - loss: 0.8520 - val_loss: 2.1164\n",
            "Epoch 2/150\n",
            "170/170 [==============================] - 1s 3ms/step - loss: 0.7634 - val_loss: 2.0870\n",
            "Epoch 3/150\n",
            "170/170 [==============================] - 0s 3ms/step - loss: 0.7708 - val_loss: 1.7592\n",
            "Epoch 4/150\n",
            "170/170 [==============================] - 0s 3ms/step - loss: 0.7674 - val_loss: 1.8989\n",
            "Epoch 5/150\n",
            "170/170 [==============================] - 0s 3ms/step - loss: 0.7690 - val_loss: 2.0315\n",
            "Epoch 6/150\n",
            "170/170 [==============================] - 1s 3ms/step - loss: 0.7618 - val_loss: 2.0170\n",
            "Epoch 7/150\n",
            "170/170 [==============================] - 0s 3ms/step - loss: 0.7595 - val_loss: 1.9467\n",
            "Epoch 8/150\n",
            "170/170 [==============================] - 0s 3ms/step - loss: 0.7623 - val_loss: 1.9752\n",
            "Epoch 9/150\n",
            "170/170 [==============================] - 0s 3ms/step - loss: 0.7576 - val_loss: 1.9818\n",
            "Epoch 10/150\n",
            "170/170 [==============================] - 1s 3ms/step - loss: 0.7599 - val_loss: 2.0138\n",
            "Epoch 11/150\n",
            "170/170 [==============================] - 0s 3ms/step - loss: 0.7597 - val_loss: 2.0677\n",
            "Epoch 12/150\n",
            "170/170 [==============================] - 0s 3ms/step - loss: 0.7721 - val_loss: 2.0381\n",
            "Epoch 13/150\n",
            "170/170 [==============================] - 1s 3ms/step - loss: 0.7625 - val_loss: 1.9811\n",
            "Epoch 14/150\n",
            "170/170 [==============================] - 1s 3ms/step - loss: 0.7594 - val_loss: 1.9687\n",
            "Epoch 15/150\n",
            "170/170 [==============================] - 0s 3ms/step - loss: 0.7589 - val_loss: 1.9610\n",
            "Epoch 16/150\n",
            "170/170 [==============================] - 1s 3ms/step - loss: 0.7617 - val_loss: 1.9057\n",
            "Epoch 17/150\n",
            "170/170 [==============================] - 1s 3ms/step - loss: 0.7626 - val_loss: 1.9620\n",
            "Epoch 18/150\n",
            "170/170 [==============================] - 0s 3ms/step - loss: 0.7622 - val_loss: 1.9073\n",
            "Epoch 19/150\n",
            "170/170 [==============================] - 0s 3ms/step - loss: 0.7607 - val_loss: 2.0488\n",
            "Epoch 20/150\n",
            "170/170 [==============================] - 0s 3ms/step - loss: 0.7603 - val_loss: 1.9352\n",
            "Epoch 21/150\n",
            "170/170 [==============================] - 0s 3ms/step - loss: 0.7602 - val_loss: 2.0226\n",
            "Epoch 22/150\n",
            "170/170 [==============================] - 1s 3ms/step - loss: 0.7601 - val_loss: 1.8816\n",
            "Epoch 23/150\n",
            "170/170 [==============================] - 1s 3ms/step - loss: 0.7592 - val_loss: 1.9251\n",
            "Epoch 24/150\n",
            "170/170 [==============================] - 0s 3ms/step - loss: 0.7610 - val_loss: 1.9930\n",
            "Epoch 25/150\n",
            "170/170 [==============================] - 0s 3ms/step - loss: 0.7606 - val_loss: 1.9498\n",
            "Epoch 26/150\n",
            "170/170 [==============================] - 0s 3ms/step - loss: 0.7585 - val_loss: 1.9410\n",
            "Epoch 27/150\n",
            "170/170 [==============================] - 1s 3ms/step - loss: 0.7570 - val_loss: 1.9333\n",
            "Epoch 28/150\n",
            "170/170 [==============================] - 1s 3ms/step - loss: 0.7582 - val_loss: 1.9537\n",
            "Epoch 29/150\n",
            "170/170 [==============================] - 1s 3ms/step - loss: 0.7649 - val_loss: 1.8327\n",
            "Epoch 30/150\n",
            "170/170 [==============================] - 1s 3ms/step - loss: 0.7572 - val_loss: 1.9320\n",
            "Epoch 31/150\n",
            "170/170 [==============================] - 1s 3ms/step - loss: 0.7568 - val_loss: 1.9506\n",
            "Epoch 32/150\n",
            "170/170 [==============================] - 1s 3ms/step - loss: 0.7594 - val_loss: 1.9560\n",
            "Epoch 33/150\n",
            "170/170 [==============================] - 1s 3ms/step - loss: 0.7591 - val_loss: 1.8578\n",
            "Epoch 34/150\n",
            "170/170 [==============================] - 1s 3ms/step - loss: 0.7619 - val_loss: 1.8985\n",
            "Epoch 35/150\n",
            "170/170 [==============================] - 1s 3ms/step - loss: 0.7611 - val_loss: 2.0231\n",
            "Epoch 36/150\n",
            "170/170 [==============================] - 0s 3ms/step - loss: 0.7581 - val_loss: 2.0526\n",
            "Epoch 37/150\n",
            "170/170 [==============================] - 0s 3ms/step - loss: 0.7641 - val_loss: 1.9993\n",
            "Epoch 38/150\n",
            "170/170 [==============================] - 1s 3ms/step - loss: 0.7614 - val_loss: 1.8907\n",
            "Epoch 39/150\n",
            "170/170 [==============================] - 1s 3ms/step - loss: 0.7554 - val_loss: 1.8862\n",
            "Epoch 40/150\n",
            "170/170 [==============================] - 0s 3ms/step - loss: 0.7567 - val_loss: 1.9966\n",
            "Epoch 41/150\n",
            "170/170 [==============================] - 1s 3ms/step - loss: 0.7595 - val_loss: 1.9662\n",
            "Epoch 42/150\n",
            "170/170 [==============================] - 0s 3ms/step - loss: 0.7604 - val_loss: 1.9303\n",
            "Epoch 43/150\n",
            "170/170 [==============================] - 0s 3ms/step - loss: 0.7588 - val_loss: 1.8337\n",
            "Epoch 44/150\n",
            "170/170 [==============================] - 0s 3ms/step - loss: 0.7577 - val_loss: 1.9205\n",
            "Epoch 45/150\n",
            "170/170 [==============================] - 1s 3ms/step - loss: 0.7595 - val_loss: 1.9005\n",
            "Epoch 46/150\n",
            "170/170 [==============================] - 1s 3ms/step - loss: 0.7584 - val_loss: 1.8565\n",
            "Epoch 47/150\n",
            "170/170 [==============================] - 1s 3ms/step - loss: 0.7557 - val_loss: 1.9879\n",
            "Epoch 48/150\n",
            "170/170 [==============================] - 1s 3ms/step - loss: 0.7574 - val_loss: 2.0253\n",
            "Epoch 49/150\n",
            "170/170 [==============================] - 0s 3ms/step - loss: 0.7592 - val_loss: 1.9083\n",
            "Epoch 50/150\n",
            "170/170 [==============================] - 0s 3ms/step - loss: 0.7555 - val_loss: 2.0159\n",
            "Epoch 51/150\n",
            "170/170 [==============================] - 1s 3ms/step - loss: 0.7548 - val_loss: 1.9349\n",
            "Epoch 52/150\n",
            "170/170 [==============================] - 0s 3ms/step - loss: 0.7552 - val_loss: 1.9984\n",
            "Epoch 53/150\n",
            "170/170 [==============================] - 0s 3ms/step - loss: 0.7550 - val_loss: 2.0172\n",
            "Epoch 54/150\n",
            "170/170 [==============================] - 1s 3ms/step - loss: 0.7549 - val_loss: 2.0170\n",
            "Epoch 55/150\n",
            "170/170 [==============================] - 1s 3ms/step - loss: 0.7575 - val_loss: 1.9893\n",
            "Epoch 56/150\n",
            "170/170 [==============================] - 1s 3ms/step - loss: 0.7548 - val_loss: 1.9708\n",
            "Epoch 57/150\n",
            "170/170 [==============================] - 1s 3ms/step - loss: 0.7541 - val_loss: 1.9631\n",
            "Epoch 58/150\n",
            "170/170 [==============================] - 1s 3ms/step - loss: 0.7553 - val_loss: 1.9191\n",
            "Epoch 59/150\n",
            "170/170 [==============================] - 1s 4ms/step - loss: 0.7543 - val_loss: 1.9397\n",
            "Epoch 60/150\n",
            "170/170 [==============================] - 1s 4ms/step - loss: 0.7548 - val_loss: 1.9827\n",
            "Epoch 61/150\n",
            "170/170 [==============================] - 1s 3ms/step - loss: 0.7542 - val_loss: 1.9437\n",
            "Epoch 62/150\n",
            "170/170 [==============================] - 1s 3ms/step - loss: 0.7552 - val_loss: 1.9312\n",
            "Epoch 63/150\n",
            "170/170 [==============================] - 0s 3ms/step - loss: 0.7553 - val_loss: 1.9407\n",
            "Epoch 64/150\n",
            "170/170 [==============================] - 1s 3ms/step - loss: 0.7553 - val_loss: 1.9111\n",
            "Epoch 65/150\n",
            "170/170 [==============================] - 1s 3ms/step - loss: 0.7549 - val_loss: 1.9962\n",
            "Epoch 66/150\n",
            "170/170 [==============================] - 0s 3ms/step - loss: 0.7576 - val_loss: 1.9960\n",
            "Epoch 67/150\n",
            "170/170 [==============================] - 1s 3ms/step - loss: 0.7547 - val_loss: 2.0271\n",
            "Epoch 68/150\n",
            "170/170 [==============================] - 1s 3ms/step - loss: 0.7563 - val_loss: 1.9276\n",
            "Epoch 69/150\n",
            "170/170 [==============================] - 1s 3ms/step - loss: 0.7557 - val_loss: 1.9330\n",
            "Epoch 70/150\n",
            "170/170 [==============================] - 1s 3ms/step - loss: 0.7541 - val_loss: 1.9594\n",
            "Epoch 71/150\n",
            "170/170 [==============================] - 1s 3ms/step - loss: 0.7597 - val_loss: 1.9540\n",
            "Epoch 72/150\n",
            "170/170 [==============================] - 1s 3ms/step - loss: 0.7556 - val_loss: 1.8310\n",
            "Epoch 73/150\n",
            "170/170 [==============================] - 1s 3ms/step - loss: 0.7546 - val_loss: 1.9988\n",
            "Epoch 74/150\n",
            "170/170 [==============================] - 0s 3ms/step - loss: 0.7562 - val_loss: 1.9835\n",
            "Epoch 75/150\n",
            "170/170 [==============================] - 0s 3ms/step - loss: 0.7572 - val_loss: 1.9500\n",
            "Epoch 76/150\n",
            "170/170 [==============================] - 1s 3ms/step - loss: 0.7569 - val_loss: 1.9426\n",
            "Epoch 77/150\n",
            "170/170 [==============================] - 0s 3ms/step - loss: 0.7571 - val_loss: 1.9380\n",
            "Epoch 78/150\n",
            "170/170 [==============================] - 1s 3ms/step - loss: 0.7559 - val_loss: 1.9183\n",
            "Epoch 79/150\n",
            "170/170 [==============================] - 1s 3ms/step - loss: 0.7549 - val_loss: 1.8575\n",
            "Epoch 80/150\n",
            "170/170 [==============================] - 1s 3ms/step - loss: 0.7548 - val_loss: 1.9434\n",
            "Epoch 81/150\n",
            "170/170 [==============================] - 0s 3ms/step - loss: 0.7542 - val_loss: 1.9320\n",
            "Epoch 82/150\n",
            "170/170 [==============================] - 0s 3ms/step - loss: 0.7547 - val_loss: 1.9594\n",
            "Epoch 83/150\n",
            "170/170 [==============================] - 0s 3ms/step - loss: 0.7563 - val_loss: 1.8993\n",
            "Epoch 84/150\n",
            "170/170 [==============================] - 0s 3ms/step - loss: 0.7560 - val_loss: 2.0022\n",
            "Epoch 85/150\n",
            "170/170 [==============================] - 1s 3ms/step - loss: 0.7563 - val_loss: 1.8923\n",
            "Epoch 86/150\n",
            "170/170 [==============================] - 0s 3ms/step - loss: 0.7555 - val_loss: 1.9090\n",
            "Epoch 87/150\n",
            "170/170 [==============================] - 0s 3ms/step - loss: 0.7557 - val_loss: 1.8843\n",
            "Epoch 88/150\n",
            "170/170 [==============================] - 0s 3ms/step - loss: 0.7537 - val_loss: 1.9367\n",
            "Epoch 89/150\n",
            "170/170 [==============================] - 1s 3ms/step - loss: 0.7550 - val_loss: 1.9142\n",
            "Epoch 90/150\n",
            "170/170 [==============================] - 0s 3ms/step - loss: 0.7543 - val_loss: 1.8756\n",
            "Epoch 91/150\n",
            "170/170 [==============================] - 1s 3ms/step - loss: 0.7560 - val_loss: 2.0503\n",
            "Epoch 92/150\n",
            "170/170 [==============================] - 1s 3ms/step - loss: 0.7561 - val_loss: 1.8946\n",
            "Epoch 93/150\n",
            "170/170 [==============================] - 1s 3ms/step - loss: 0.7569 - val_loss: 1.8812\n",
            "Epoch 94/150\n",
            "170/170 [==============================] - 0s 3ms/step - loss: 0.7594 - val_loss: 1.9397\n",
            "Epoch 95/150\n",
            "170/170 [==============================] - 1s 3ms/step - loss: 0.7572 - val_loss: 1.9803\n",
            "Epoch 96/150\n",
            "170/170 [==============================] - 1s 3ms/step - loss: 0.7576 - val_loss: 1.8893\n",
            "Epoch 97/150\n",
            "170/170 [==============================] - 1s 3ms/step - loss: 0.7552 - val_loss: 1.9052\n",
            "Epoch 98/150\n",
            "170/170 [==============================] - 0s 3ms/step - loss: 0.7548 - val_loss: 1.9830\n",
            "Epoch 99/150\n",
            "170/170 [==============================] - 1s 3ms/step - loss: 0.7563 - val_loss: 1.9470\n",
            "Epoch 100/150\n",
            "170/170 [==============================] - 1s 3ms/step - loss: 0.7580 - val_loss: 1.8268\n",
            "Epoch 101/150\n",
            "170/170 [==============================] - 1s 3ms/step - loss: 0.7549 - val_loss: 1.9218\n",
            "Epoch 102/150\n",
            "170/170 [==============================] - 0s 3ms/step - loss: 0.7572 - val_loss: 1.8776\n",
            "Epoch 103/150\n",
            "170/170 [==============================] - 0s 3ms/step - loss: 0.7557 - val_loss: 1.9141\n",
            "Epoch 104/150\n",
            "170/170 [==============================] - 1s 3ms/step - loss: 0.7541 - val_loss: 1.9895\n",
            "Epoch 105/150\n",
            "170/170 [==============================] - 0s 3ms/step - loss: 0.7560 - val_loss: 1.8599\n",
            "Epoch 106/150\n",
            "170/170 [==============================] - 0s 3ms/step - loss: 0.7549 - val_loss: 1.9021\n",
            "Epoch 107/150\n",
            "170/170 [==============================] - 1s 3ms/step - loss: 0.7567 - val_loss: 1.9267\n",
            "Epoch 108/150\n",
            "170/170 [==============================] - 0s 3ms/step - loss: 0.7544 - val_loss: 1.9271\n",
            "Epoch 109/150\n",
            "170/170 [==============================] - 1s 3ms/step - loss: 0.7562 - val_loss: 1.9293\n",
            "Epoch 110/150\n",
            "170/170 [==============================] - 0s 3ms/step - loss: 0.7552 - val_loss: 1.8485\n",
            "Epoch 111/150\n",
            "170/170 [==============================] - 1s 3ms/step - loss: 0.7587 - val_loss: 1.8922\n",
            "Epoch 112/150\n",
            "170/170 [==============================] - 0s 3ms/step - loss: 0.7559 - val_loss: 1.9033\n",
            "Epoch 113/150\n",
            "170/170 [==============================] - 0s 3ms/step - loss: 0.7557 - val_loss: 1.9413\n",
            "Epoch 114/150\n",
            "170/170 [==============================] - 0s 3ms/step - loss: 0.7545 - val_loss: 1.9205\n",
            "Epoch 115/150\n",
            "170/170 [==============================] - 1s 3ms/step - loss: 0.7560 - val_loss: 1.9330\n",
            "Epoch 116/150\n",
            "170/170 [==============================] - 1s 3ms/step - loss: 0.7560 - val_loss: 1.9309\n",
            "Epoch 117/150\n",
            "170/170 [==============================] - 1s 3ms/step - loss: 0.7544 - val_loss: 1.8988\n",
            "Epoch 118/150\n",
            "170/170 [==============================] - 0s 3ms/step - loss: 0.7567 - val_loss: 1.9049\n",
            "Epoch 119/150\n",
            "170/170 [==============================] - 1s 3ms/step - loss: 0.7544 - val_loss: 1.8978\n",
            "Epoch 120/150\n",
            "170/170 [==============================] - 1s 3ms/step - loss: 0.7562 - val_loss: 1.8732\n",
            "Epoch 121/150\n",
            "170/170 [==============================] - 1s 3ms/step - loss: 0.7569 - val_loss: 1.8151\n",
            "Epoch 122/150\n",
            "170/170 [==============================] - 1s 3ms/step - loss: 0.7578 - val_loss: 1.8217\n",
            "Epoch 123/150\n",
            "170/170 [==============================] - 1s 3ms/step - loss: 0.7566 - val_loss: 1.8942\n",
            "Epoch 124/150\n",
            "170/170 [==============================] - 1s 3ms/step - loss: 0.7578 - val_loss: 1.8661\n",
            "Epoch 125/150\n",
            "170/170 [==============================] - 1s 3ms/step - loss: 0.7551 - val_loss: 1.9174\n",
            "Epoch 126/150\n",
            "170/170 [==============================] - 0s 3ms/step - loss: 0.7537 - val_loss: 1.9305\n",
            "Epoch 127/150\n",
            "170/170 [==============================] - 1s 3ms/step - loss: 0.7548 - val_loss: 1.9167\n",
            "Epoch 128/150\n",
            "170/170 [==============================] - 1s 3ms/step - loss: 0.7555 - val_loss: 1.9359\n",
            "Epoch 129/150\n",
            "170/170 [==============================] - 1s 3ms/step - loss: 0.7542 - val_loss: 1.8962\n",
            "Epoch 130/150\n",
            "170/170 [==============================] - 0s 3ms/step - loss: 0.7547 - val_loss: 1.9292\n",
            "Epoch 131/150\n",
            "170/170 [==============================] - 0s 3ms/step - loss: 0.7545 - val_loss: 1.9918\n",
            "Epoch 132/150\n",
            "170/170 [==============================] - 1s 3ms/step - loss: 0.7541 - val_loss: 1.9118\n",
            "Epoch 133/150\n",
            "170/170 [==============================] - 0s 3ms/step - loss: 0.7545 - val_loss: 1.9304\n",
            "Epoch 134/150\n",
            "170/170 [==============================] - 1s 3ms/step - loss: 0.7539 - val_loss: 1.9773\n",
            "Epoch 135/150\n",
            "170/170 [==============================] - 0s 3ms/step - loss: 0.7555 - val_loss: 1.9573\n",
            "Epoch 136/150\n",
            "170/170 [==============================] - 1s 3ms/step - loss: 0.7535 - val_loss: 1.9097\n",
            "Epoch 137/150\n",
            "170/170 [==============================] - 1s 3ms/step - loss: 0.7537 - val_loss: 1.9936\n",
            "Epoch 138/150\n",
            "170/170 [==============================] - 1s 3ms/step - loss: 0.7557 - val_loss: 1.9043\n",
            "Epoch 139/150\n",
            "170/170 [==============================] - 1s 3ms/step - loss: 0.7568 - val_loss: 1.9306\n",
            "Epoch 140/150\n",
            "170/170 [==============================] - 0s 3ms/step - loss: 0.7557 - val_loss: 1.9178\n",
            "Epoch 141/150\n",
            "170/170 [==============================] - 0s 3ms/step - loss: 0.7542 - val_loss: 1.8560\n",
            "Epoch 142/150\n",
            "170/170 [==============================] - 1s 3ms/step - loss: 0.7551 - val_loss: 1.9505\n",
            "Epoch 143/150\n",
            "170/170 [==============================] - 1s 3ms/step - loss: 0.7551 - val_loss: 1.9692\n",
            "Epoch 144/150\n",
            "170/170 [==============================] - 1s 3ms/step - loss: 0.7535 - val_loss: 1.8808\n",
            "Epoch 145/150\n",
            "170/170 [==============================] - 0s 3ms/step - loss: 0.7548 - val_loss: 1.9159\n",
            "Epoch 146/150\n",
            "170/170 [==============================] - 1s 3ms/step - loss: 0.7548 - val_loss: 1.8910\n",
            "Epoch 147/150\n",
            "170/170 [==============================] - 1s 3ms/step - loss: 0.7562 - val_loss: 1.9272\n",
            "Epoch 148/150\n",
            "170/170 [==============================] - 1s 3ms/step - loss: 0.7541 - val_loss: 1.8559\n",
            "Epoch 149/150\n",
            "170/170 [==============================] - 0s 3ms/step - loss: 0.7540 - val_loss: 1.8900\n",
            "Epoch 150/150\n",
            "170/170 [==============================] - 1s 3ms/step - loss: 0.7555 - val_loss: 1.8893\n"
          ]
        }
      ]
    },
    {
      "cell_type": "code",
      "source": [
        "#Predict the model\n",
        "y_predict = model.predict(X_test[['Jaccard_Similarity']])\n",
        "# y_predict"
      ],
      "metadata": {
        "id": "_Mxwy7nUqEBl"
      },
      "execution_count": null,
      "outputs": []
    },
    {
      "cell_type": "code",
      "source": [
        "#Plot the loss and val loss model\n",
        "plt.plot(history.history['loss'])\n",
        "plt.plot(history.history['val_loss'])\n",
        "plt.title('model Loss')\n",
        "plt.ylabel('loss')\n",
        "plt.xlabel('epoch')\n",
        "plt.legend(['train', 'val'], loc='upper left')\n",
        "plt.show()"
      ],
      "metadata": {
        "colab": {
          "base_uri": "https://localhost:8080/",
          "height": 295
        },
        "id": "P8YHNWPAUkOc",
        "outputId": "61518a9e-a66c-4828-bf2b-98937bb943c2"
      },
      "execution_count": null,
      "outputs": [
        {
          "output_type": "display_data",
          "data": {
            "text/plain": [
              "<Figure size 432x288 with 1 Axes>"
            ],
            "image/png": "[encoded data removed]"
          },
          "metadata": {
            "needs_background": "light"
          }
        }
      ]
    },
    {
      "cell_type": "code",
      "source": [
        "#Evaluate the regression model\n",
        "from sklearn.metrics import mean_absolute_percentage_error\n",
        "print(mean_absolute_percentage_error(y_test, y_predict))\n",
        "print(mean_absolute_error(y_test, y_predict))"
      ],
      "metadata": {
        "colab": {
          "base_uri": "https://localhost:8080/"
        },
        "id": "usyXqxBGv0Rl",
        "outputId": "bf13640f-f415-4914-d332-eb185d7c7501"
      },
      "execution_count": null,
      "outputs": [
        {
          "output_type": "stream",
          "name": "stdout",
          "text": [
            "0.6943040544531127\n",
            "0.8319558968831753\n"
          ]
        }
      ]
    },
    {
      "cell_type": "markdown",
      "source": [
        "###Passive Aggressive Regressor model\n",
        "(1) Mean Absolute Error: 1.7307260330271736 Jaccard_Similarity\n",
        "\n",
        "(2) Mean Absolute Error: 1.5697278618715456 Levenshtein_Similarity\n",
        "\n",
        "(3) Mean Absolute Error: 0.9096772892555449 Dice_Coefficient_Similarity\n",
        "\n",
        "(4) Mean Absolute Error: 0.6995773140772141 Overlap_Coefficient_Similarity\n",
        "\n",
        "(5) Mean Absolute Error: 1.0130233720166915 Cosine_Similarity\n",
        "\n",
        "(6) Mean Absolute Error: 1.9676307906374977 Cosine_Similarity & Overlap_Coefficient_Similarity & Jaccard_Similarity & Dice_Coefficient_Similarity & Levenshtein_Similarity\n",
        "\n"
      ],
      "metadata": {
        "id": "eqwLOsqIPVpl"
      }
    },
    {
      "cell_type": "code",
      "source": [
        "from sklearn.linear_model import PassiveAggressiveRegressor\n",
        "from sklearn.datasets import make_regression"
      ],
      "metadata": {
        "id": "6GNPftFyPXDm"
      },
      "execution_count": null,
      "outputs": []
    },
    {
      "cell_type": "code",
      "source": [
        "regr = PassiveAggressiveRegressor(max_iter=100, random_state=0,\n",
        "tol=1e-3)\n",
        "history_PAR = regr.fit(X_Train_balanced[['Overlap_Coefficient_Similarity']], y_Train_balanced)\n"
      ],
      "metadata": {
        "id": "L8tHbZaOe3c-"
      },
      "execution_count": null,
      "outputs": []
    },
    {
      "cell_type": "code",
      "source": [
        "#Predict the model\n",
        "y_predict = regr.predict(X_test[ ['Overlap_Coefficient_Similarity']])\n",
        "# y_predict"
      ],
      "metadata": {
        "id": "bp6saWqRe3fZ"
      },
      "execution_count": null,
      "outputs": []
    },
    {
      "cell_type": "code",
      "source": [
        "#Evaluate the regression model\n",
        "print(mean_absolute_error(y_test, y_predict))"
      ],
      "metadata": {
        "colab": {
          "base_uri": "https://localhost:8080/"
        },
        "id": "RtMcpPxSe3iF",
        "outputId": "50382ef8-e1bd-410d-efcf-920925e81add"
      },
      "execution_count": null,
      "outputs": [
        {
          "output_type": "stream",
          "name": "stdout",
          "text": [
            "0.6995773140772141\n"
          ]
        }
      ]
    },
    {
      "cell_type": "code",
      "source": [
        ""
      ],
      "metadata": {
        "id": "ptTwrSBve3nH"
      },
      "execution_count": null,
      "outputs": []
    },
    {
      "cell_type": "markdown",
      "source": [
        "###Linear Regression model\n",
        "\n",
        "\n",
        "1) Mean Absolute Error: 1.0814858060172858 ['Cosine_Similarity','Levenshtein_Similarity']\n",
        "\n",
        "2) Mean Absolute Error: 1.1122617915755517 ['Cosine_Similarity'] \n",
        "\n",
        "3) Mean Absolute Error: 1.1122617915755517 ['Overlap_Coefficient_Similarity'] \n",
        "\n",
        "4) Mean Absolute Error: 1.1424492478513621 ['Dice_Coefficient_Similarity']\n",
        "\n",
        "5) Mean Absolute Error: 1.0964518686215556 ['Levenshtein_Similarity']\n",
        "\n",
        "6) Mean Absolute Error: 1.1155015717671133 ['Jaccard_Similarity']\n",
        "\n",
        "7) Mean Absolute Error: 1.084778514275219 ['Cosine_Similarity', 'Overlap_Coefficient_Similarity', 'Jaccard_Similarity', 'Dice_Coefficient_Similarity', 'Levenshtein_Similarity']"
      ],
      "metadata": {
        "id": "b290n1xRPbL0"
      }
    },
    {
      "cell_type": "code",
      "source": [
        "from sklearn.linear_model import LinearRegression\n",
        "regressor = LinearRegression()\n",
        "regressor.fit(X_Train_balanced[['Cosine_Similarity', 'Overlap_Coefficient_Similarity', 'Jaccard_Similarity', 'Dice_Coefficient_Similarity', 'Levenshtein_Similarity']], y_Train_balanced)\n",
        "y_pred = regressor.predict(X_test[['Cosine_Similarity', 'Overlap_Coefficient_Similarity', 'Jaccard_Similarity', 'Dice_Coefficient_Similarity', 'Levenshtein_Similarity']])"
      ],
      "metadata": {
        "id": "4oTVn8QcPctB"
      },
      "execution_count": null,
      "outputs": []
    },
    {
      "cell_type": "code",
      "source": [
        "#Evaluate the regression model\n",
        "print(mean_absolute_error(y_test, y_pred))"
      ],
      "metadata": {
        "colab": {
          "base_uri": "https://localhost:8080/"
        },
        "id": "YHePI6RgswAu",
        "outputId": "682ead49-afd0-42f9-9acb-33adf4111011"
      },
      "execution_count": null,
      "outputs": [
        {
          "output_type": "stream",
          "name": "stdout",
          "text": [
            "1.084778514275219\n"
          ]
        }
      ]
    },
    {
      "cell_type": "markdown",
      "source": [
        "### KNN Model\n",
        "\n",
        "(1) Mean Absolute Error: 0.6821120689655172 Jaccard_Similarity\n",
        "\n",
        "(2) Mean Absolute Error: 0.8060344827586207 Levenshtein_Similarity\n",
        "\n",
        "(3) Mean Absolute Error: 0.828125 Dice_Coefficient_Similarity\n",
        "\n",
        "(4) Mean Absolute Error: 0.6594827586206896 Overlap_Coefficient_Similarity\n",
        "\n",
        "(5) Mean Absolute Error: 0.681573275862069 Cosine_Similarity\n",
        "\n",
        "(6) Mean Absolute Error: 0.6610991379310345 Cosine_Similarity & Overlap_Coefficient_Similarity\n",
        "\n",
        "(7) Mean Absolute Error: 0.6610991379310345 Cosine_Similarity & Overlap_Coefficient_Similarity & Jaccard_Similarity\n",
        "\n",
        "(8) Mean Absolute Error: 0.7548491379310345 Cosine_Similarity & Overlap_Coefficient_Similarity & Jaccard_Similarity & Dice_Coefficient_Similarity\n",
        "\n",
        "(9) Mean Absolute Error: 0.8205818965517241 Cosine_Similarity & Overlap_Coefficient_Similarity & Jaccard_Similarity & Dice_Coefficient_Similarity & Levenshtein_Similarity"
      ],
      "metadata": {
        "id": "cRbuMgjC9dtq"
      }
    },
    {
      "cell_type": "code",
      "source": [
        "#import required packages\n",
        "from sklearn import neighbors\n",
        "from sklearn.metrics import mean_squared_error \n",
        "from math import sqrt"
      ],
      "metadata": {
        "id": "WrgAAEbLzbXE"
      },
      "execution_count": null,
      "outputs": []
    },
    {
      "cell_type": "code",
      "source": [
        "\n",
        "###### K-Nearest Neighbour(KNN) Regression in Python #######\n",
        "from sklearn.neighbors import KNeighborsRegressor\n",
        "RegModel = KNeighborsRegressor(n_neighbors=4)\n",
        " \n",
        "#Printing all the parameters of KNN\n",
        "# print(RegModel)\n",
        " \n",
        "#Creating the model on Training Data\n",
        "KNN=RegModel.fit(X_Train_balanced[['Overlap_Coefficient_Similarity']], y_Train_balanced)\n",
        "prediction=KNN.predict(X_test[['Overlap_Coefficient_Similarity']])\n",
        "\n",
        "#Evaluate the regression model\n",
        "print(mean_absolute_percentage_error(y_test, prediction)) \n",
        "print(mean_absolute_error(y_test, prediction))"
      ],
      "metadata": {
        "colab": {
          "base_uri": "https://localhost:8080/"
        },
        "id": "8aBaPq3VwhHE",
        "outputId": "5341c699-76d0-463f-b6bc-55a1745d8c80"
      },
      "execution_count": null,
      "outputs": [
        {
          "output_type": "stream",
          "name": "stdout",
          "text": [
            "0.42039331896551724\n",
            "0.6594827586206896\n"
          ]
        }
      ]
    },
    {
      "cell_type": "markdown",
      "source": [
        "### Decision Tree Model\n",
        "\n",
        "1)  Mean Absolute Error: 0.6918103448275862 ['Cosine_Similarity','Levenshtein_Similarity']\n",
        "\n",
        "3) Mean Absolute Error: 0.8405172413793104 ['Cosine_Similarity']\n",
        "\n",
        "4) Mean Absolute Error: 1.0086206896551724 ['Overlap_Coefficient_Similarity']\n",
        "\n",
        "5) Mean Absolute Error: 0.9331896551724138 ['Dice_Coefficient_Similarity']\n",
        "\n",
        "6) Mean Absolute Error: 1.2262931034482758 ['Levenshtein_Similarity']\n",
        "\n",
        "7) Mean Absolute Error: 1.0107758620689655 ['Jaccard_Similarity']\n",
        "\n",
        "8) Mean Absolute Error: 0.6056034482758621 ['Jaccard_Similarity','Levenshtein_Similarity', 'Dice_Coefficient_Similarity', 'Overlap_Coefficient_Similarity', 'Cosine_Similarity']"
      ],
      "metadata": {
        "id": "FSXQ1HyBIeAy"
      }
    },
    {
      "cell_type": "code",
      "source": [
        "from sklearn.tree import DecisionTreeClassifier # Import Decision Tree Classifier\n",
        "\n",
        "# Create Decision Tree classifer object\n",
        "clf = DecisionTreeClassifier()\n",
        "\n",
        "# Train Decision Tree Classifer\n",
        "clf = clf.fit(X_Train_balanced[['Jaccard_Similarity','Levenshtein_Similarity', 'Dice_Coefficient_Similarity', 'Overlap_Coefficient_Similarity', 'Cosine_Similarity']], y_Train_balanced)\n",
        "\n",
        "#Predict the response for test dataset\n",
        "y_pred = clf.predict(X_test[['Jaccard_Similarity','Levenshtein_Similarity', 'Dice_Coefficient_Similarity', 'Overlap_Coefficient_Similarity', 'Cosine_Similarity']])\n",
        "\n",
        "# Evaluating Model\n",
        "print(mean_absolute_percentage_error(y_test, y_pred)) \n",
        "print(mean_absolute_error(y_test, y_pred))\n"
      ],
      "metadata": {
        "colab": {
          "base_uri": "https://localhost:8080/"
        },
        "id": "O1Ob-HjaIhZq",
        "outputId": "654f646a-2bd3-468f-9055-a913bcb902fc"
      },
      "execution_count": null,
      "outputs": [
        {
          "output_type": "stream",
          "name": "stdout",
          "text": [
            "0.4197198275862069\n",
            "0.6400862068965517\n"
          ]
        }
      ]
    },
    {
      "cell_type": "code",
      "source": [
        ""
      ],
      "metadata": {
        "id": "-ZSB2nZ-Ih8u"
      },
      "execution_count": null,
      "outputs": []
    },
    {
      "cell_type": "code",
      "source": [
        ""
      ],
      "metadata": {
        "id": "ffcD-DAYIh_m"
      },
      "execution_count": null,
      "outputs": []
    },
    {
      "cell_type": "markdown",
      "source": [
        "###SVM Model\n",
        "\n",
        "1) Mean Absolute Error: 1.1573275862068966 ['Cosine_Similarity','Levenshtein_Similarity']\n",
        "\n",
        "2) Mean Absolute Error: 0.7629310344827587 ['Cosine_Similarity']\n",
        "\n",
        "3) Mean Absolute Error: 0.7262931034482759 ['Overlap_Coefficient_Similarity']\n",
        "\n",
        "4) Mean Absolute Error: 1.3426724137931034 ['Dice_Coefficient_Similarity']\n",
        "\n",
        "5) Mean Absolute Error: 1.5581896551724137 ['Levenshtein_Similarity']\n",
        "\n",
        "6) Mean Absolute Error: 0.6422413793103449 ['Jaccard_Similarity']\n",
        "\n",
        "7) Mean Absolute Error: 1.0883620689655173 ['Jaccard_Similarity','Levenshtein_Similarity', 'Dice_Coefficient_Similarity', 'Overlap_Coefficient_Similarity', 'Cosine_Similarity']\n",
        "\n"
      ],
      "metadata": {
        "id": "iFYtMA2v6PTV"
      }
    },
    {
      "cell_type": "code",
      "source": [
        "#Import svm model\n",
        "from sklearn import svm\n",
        "\n",
        "#Create a svm Classifier\n",
        "clf = svm.SVC(kernel = 'linear') # Linear Kernel\n",
        "\n",
        "#Train the model using the training sets\n",
        "clf.fit(X_Train_balanced[['Jaccard_Similarity']], y_Train_balanced)\n",
        "\n",
        "#Predict the response for test dataset\n",
        "y_pred = clf.predict(X_test[['Jaccard_Similarity']])"
      ],
      "metadata": {
        "id": "wDYVMm4_UkTs"
      },
      "execution_count": null,
      "outputs": []
    },
    {
      "cell_type": "code",
      "source": [
        "#Evaluating the Model\n",
        "#Import scikit-learn metrics module for accuracy calculation\n",
        "from sklearn import metrics\n",
        "\n",
        "# Model Accuracy: how often is the classifier correct?\n",
        "print(\"Accuracy:\",metrics.accuracy_score(y_test, y_pred))\n",
        "print(mean_absolute_error(y_test, y_pred))"
      ],
      "metadata": {
        "colab": {
          "base_uri": "https://localhost:8080/"
        },
        "id": "v_ouEdrNjMr6",
        "outputId": "9732aafa-9a65-4d9e-e529-fdd11ac0b13f"
      },
      "execution_count": null,
      "outputs": [
        {
          "output_type": "stream",
          "name": "stdout",
          "text": [
            "Accuracy: 0.5237068965517241\n",
            "0.6422413793103449\n"
          ]
        }
      ]
    },
    {
      "cell_type": "code",
      "source": [
        ""
      ],
      "metadata": {
        "id": "XwnbanLfIm4x"
      },
      "execution_count": null,
      "outputs": []
    }
  ],
  "metadata": {
    "kernelspec": {
      "display_name": "Python 3",
      "language": "python",
      "name": "python3"
    },
    "language_info": {
      "codemirror_mode": {
        "name": "ipython",
        "version": 3
      },
      "file_extension": ".py",
      "mimetype": "text/x-python",
      "name": "python",
      "nbconvert_exporter": "python",
      "pygments_lexer": "ipython3",
      "version": "3.6.9"
    },
    "colab": {
      "name": "Question_Answering_Project_DA.ipynb",
      "provenance": [],
      "collapsed_sections": [
        "WFmcdIJaeOtt",
        "d3LoJJ4IOcKk",
        "qNou0bHYqiJF",
        "-y0LpZvRnu_3",
        "qVRK-Q3mfqst",
        "Sx9b5p5S-BkB",
        "FTp3nPlehkJx",
        "N93BTvfj5XGT",
        "CsoQmiQ48NS5",
        "SLEMUkI6OiOb",
        "DgnkjF5G8TGS",
        "q9111ZfpbuIe",
        "LtKi2rYD5iYb",
        "argeuMxC5kWT",
        "eqwLOsqIPVpl",
        "b290n1xRPbL0",
        "cRbuMgjC9dtq",
        "FSXQ1HyBIeAy",
        "iFYtMA2v6PTV"
      ]
    },
    "accelerator": "GPU"
  },
  "nbformat": 4,
  "nbformat_minor": 0
}